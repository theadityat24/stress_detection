{
 "cells": [
  {
   "cell_type": "code",
   "execution_count": 21,
   "id": "c8cb5ce0-f5b7-49f2-860c-77800a1c158e",
   "metadata": {},
   "outputs": [],
   "source": [
    "import numpy as np\n",
    "import pandas as pd\n",
    "import matplotlib.pyplot as plt\n",
    "\n",
    "from sklearn.model_selection import train_test_split\n",
    "from sklearn.decomposition import PCA\n",
    "\n",
    "import tensorflow as tf\n",
    "\n",
    "from keras.models import Sequential, Model\n",
    "from keras.layers import Conv1D, MaxPooling1D, Dense, Flatten, Input, AveragePooling1D, Dropout, Softmax\n",
    "from keras.optimizers import Adam, Nadam\n",
    "from keras.regularizers import L2\n",
    "from keras.callbacks import ReduceLROnPlateau, LearningRateScheduler, Callback, LambdaCallback\n",
    "from keras.metrics import Metric\n",
    "from tensorflow import keras\n",
    "\n",
    "from time import perf_counter\n",
    "import functools"
   ]
  },
  {
   "cell_type": "code",
   "execution_count": 3,
   "id": "4719d771-9fca-4e41-be72-bbea116b0c21",
   "metadata": {},
   "outputs": [],
   "source": [
    "stresses = ['Gm', 'Drought', 'Nutrient_Deficiency', 'Fs', 'Salinity']"
   ]
  },
  {
   "cell_type": "code",
   "execution_count": 4,
   "id": "637f054d-6243-4486-9e3c-05af014aa535",
   "metadata": {},
   "outputs": [
    {
     "name": "stderr",
     "output_type": "stream",
     "text": [
      "C:\\Users\\thead\\AppData\\Local\\Temp\\ipykernel_27180\\1297277926.py:2: DtypeWarning: Columns (4) have mixed types. Specify dtype option on import or set low_memory=False.\n",
      "  df = pd.read_csv(csv_path)\n"
     ]
    }
   ],
   "source": [
    "csv_path = r'..\\combined.csv'\n",
    "df = pd.read_csv(csv_path)\n",
    "df.drop(columns=['Unnamed: 0'], inplace=True, errors='ignore')\n",
    "df.drop(columns=['Fungal_infection'], inplace=True, errors='ignore')\n",
    "df[stresses] = df[stresses].astype(bool)"
   ]
  },
  {
   "cell_type": "code",
   "execution_count": 5,
   "id": "057ff01b-88c7-4b81-8760-b17477496043",
   "metadata": {},
   "outputs": [],
   "source": [
    "spec_cols = [col for col in df.columns if col[0] == 'X']"
   ]
  },
  {
   "cell_type": "code",
   "execution_count": 17,
   "id": "57b48d75-9016-409e-afc8-abd0bece7eec",
   "metadata": {},
   "outputs": [],
   "source": [
    "trait_cols = df.columns[list(df.columns).index(spec_cols[-1])+1:]"
   ]
  },
  {
   "cell_type": "markdown",
   "id": "9d7a8110-20c5-4a11-84e6-0a82a2358590",
   "metadata": {},
   "source": [
    "## PCA"
   ]
  },
  {
   "cell_type": "code",
   "execution_count": 20,
   "id": "ce74c976-2eb5-4230-8156-83ab5ab17d75",
   "metadata": {},
   "outputs": [
    {
     "data": {
      "text/plain": [
       "(23656, 35)"
      ]
     },
     "execution_count": 20,
     "metadata": {},
     "output_type": "execute_result"
    }
   ],
   "source": [
    "df[trait_cols]"
   ]
  },
  {
   "cell_type": "code",
   "execution_count": 28,
   "id": "a403d7a7-bc46-4734-b339-d43c4f98dc84",
   "metadata": {},
   "outputs": [],
   "source": [
    "pca = PCA(n_components=10)\n",
    "x_pca = pca.fit_transform(df[trait_cols].values)"
   ]
  },
  {
   "cell_type": "code",
   "execution_count": 29,
   "id": "e64b519e-8882-4ce6-96b8-44c9ef822197",
   "metadata": {},
   "outputs": [
    {
     "data": {
      "text/plain": [
       "array([0.67645515, 0.8515996 , 0.95720411, 0.97574504, 0.98486931,\n",
       "       0.99101191, 0.99546313, 0.99799683, 0.99894417, 0.99946745])"
      ]
     },
     "execution_count": 29,
     "metadata": {},
     "output_type": "execute_result"
    }
   ],
   "source": [
    "pca.explained_variance_ratio_.cumsum()"
   ]
  },
  {
   "cell_type": "markdown",
   "id": "824e7187-f76b-4497-8bc2-ea41158e350a",
   "metadata": {},
   "source": [
    "## NN"
   ]
  },
  {
   "cell_type": "code",
   "execution_count": 33,
   "id": "2b8a3a5e-5f6a-46c1-a4c3-2f91ef826fd0",
   "metadata": {},
   "outputs": [
    {
     "data": {
      "text/plain": [
       "array([[0.59168592, 0.45748283, 0.5556406 , ..., 0.49961503, 0.1788518 ,\n",
       "        0.35386812],\n",
       "       [0.54916771, 0.54878389, 0.43357593, ..., 0.55762903, 0.22246862,\n",
       "        0.37287277],\n",
       "       [0.55319733, 0.47042533, 0.40807592, ..., 0.56404209, 0.46298605,\n",
       "        0.33154013],\n",
       "       ...,\n",
       "       [0.22052944, 0.34836485, 0.86988769, ..., 0.57610187, 0.35452432,\n",
       "        0.33090534],\n",
       "       [0.45560781, 0.66221538, 0.63585068, ..., 0.57791398, 0.47515626,\n",
       "        0.4181094 ],\n",
       "       [0.14611771, 0.54324547, 0.67781236, ..., 0.72834101, 0.31983212,\n",
       "        0.27891245]])"
      ]
     },
     "execution_count": 33,
     "metadata": {},
     "output_type": "execute_result"
    }
   ],
   "source": []
  },
  {
   "cell_type": "code",
   "execution_count": 54,
   "id": "5c57e57a-d38d-4139-816a-a5c782ccd1ea",
   "metadata": {},
   "outputs": [],
   "source": [
    "x_pca = df[trait_cols].values\n",
    "\n",
    "x_pca = (x_pca - x_pca.min(axis=0))/(x_pca.max(axis=0)-x_pca.min(axis=0))\n",
    "y = df[stresses].values\n",
    "\n",
    "x_train, x_val, y_train, y_val = train_test_split(x_pca, y, test_size=.2)"
   ]
  },
  {
   "cell_type": "code",
   "execution_count": 145,
   "id": "02717ef7-b27d-4a48-909e-c2f4457af7a5",
   "metadata": {},
   "outputs": [],
   "source": [
    "model = Sequential([\n",
    "    Input((x_pca.shape[1],)),\n",
    "    Dense(256, kernel_regularizer=L2(.001), activation='relu'),\n",
    "    Dropout(.2),\n",
    "    Dense(256, kernel_regularizer=L2(.001), activation='relu'),\n",
    "    Dropout(.2),\n",
    "    Dense(256, kernel_regularizer=L2(.00), activation='relu'),\n",
    "    Dropout(.2),\n",
    "    Dense(256, kernel_regularizer=L2(.00), activation='relu'),\n",
    "    Dropout(.1),\n",
    "    Dense(256, kernel_regularizer=L2(.00), activation='relu'),\n",
    "    Dropout(.1),\n",
    "    Dense(256, kernel_regularizer=L2(.00), activation='relu'),\n",
    "    Dropout(.1),\n",
    "    Dense(y.shape[1], activation='sigmoid'),\n",
    "])\n",
    "\n",
    "model.compile(optimizer=Nadam(1e-4), loss='binary_crossentropy')"
   ]
  },
  {
   "cell_type": "code",
   "execution_count": 146,
   "id": "5110f59b-aebe-41fa-9c75-ca8800fdb892",
   "metadata": {
    "scrolled": true
   },
   "outputs": [
    {
     "name": "stdout",
     "output_type": "stream",
     "text": [
      "Epoch 1/100\n",
      "237/237 [==============================] - 4s 7ms/step - loss: 0.7057 - val_loss: 0.5851\n",
      "Epoch 2/100\n",
      "237/237 [==============================] - 2s 6ms/step - loss: 0.5053 - val_loss: 0.4309\n",
      "Epoch 3/100\n",
      "237/237 [==============================] - 2s 7ms/step - loss: 0.4167 - val_loss: 0.3800\n",
      "Epoch 4/100\n",
      "237/237 [==============================] - 2s 6ms/step - loss: 0.3714 - val_loss: 0.3404\n",
      "Epoch 5/100\n",
      "237/237 [==============================] - 2s 6ms/step - loss: 0.3433 - val_loss: 0.3202\n",
      "Epoch 6/100\n",
      "237/237 [==============================] - 2s 6ms/step - loss: 0.3233 - val_loss: 0.3020\n",
      "Epoch 7/100\n",
      "237/237 [==============================] - 2s 7ms/step - loss: 0.3053 - val_loss: 0.2846\n",
      "Epoch 8/100\n",
      "237/237 [==============================] - 2s 6ms/step - loss: 0.2908 - val_loss: 0.2694\n",
      "Epoch 9/100\n",
      "237/237 [==============================] - 2s 7ms/step - loss: 0.2799 - val_loss: 0.2581\n",
      "Epoch 10/100\n",
      "237/237 [==============================] - 1s 6ms/step - loss: 0.2695 - val_loss: 0.2519\n",
      "Epoch 11/100\n",
      "237/237 [==============================] - 2s 6ms/step - loss: 0.2609 - val_loss: 0.2405\n",
      "Epoch 12/100\n",
      "237/237 [==============================] - 2s 6ms/step - loss: 0.2521 - val_loss: 0.2347\n",
      "Epoch 13/100\n",
      "237/237 [==============================] - 2s 6ms/step - loss: 0.2454 - val_loss: 0.2240\n",
      "Epoch 14/100\n",
      "237/237 [==============================] - 2s 6ms/step - loss: 0.2373 - val_loss: 0.2177\n",
      "Epoch 15/100\n",
      "237/237 [==============================] - 2s 6ms/step - loss: 0.2324 - val_loss: 0.2124\n",
      "Epoch 16/100\n",
      "237/237 [==============================] - 1s 6ms/step - loss: 0.2256 - val_loss: 0.2065\n",
      "Epoch 17/100\n",
      "237/237 [==============================] - 1s 6ms/step - loss: 0.2189 - val_loss: 0.2000\n",
      "Epoch 18/100\n",
      "237/237 [==============================] - 1s 6ms/step - loss: 0.2138 - val_loss: 0.1950\n",
      "Epoch 19/100\n",
      "237/237 [==============================] - 2s 7ms/step - loss: 0.2088 - val_loss: 0.1882\n",
      "Epoch 20/100\n",
      "237/237 [==============================] - 2s 6ms/step - loss: 0.2034 - val_loss: 0.1805\n",
      "Epoch 21/100\n",
      "237/237 [==============================] - 2s 6ms/step - loss: 0.1992 - val_loss: 0.1765\n",
      "Epoch 22/100\n",
      "237/237 [==============================] - 2s 6ms/step - loss: 0.1942 - val_loss: 0.1700\n",
      "Epoch 23/100\n",
      "237/237 [==============================] - 2s 6ms/step - loss: 0.1892 - val_loss: 0.1660\n",
      "Epoch 24/100\n",
      "237/237 [==============================] - 2s 7ms/step - loss: 0.1836 - val_loss: 0.1633\n",
      "Epoch 25/100\n",
      "237/237 [==============================] - 2s 7ms/step - loss: 0.1781 - val_loss: 0.1552\n",
      "Epoch 26/100\n",
      "237/237 [==============================] - 2s 6ms/step - loss: 0.1725 - val_loss: 0.1503\n",
      "Epoch 27/100\n",
      "237/237 [==============================] - 2s 6ms/step - loss: 0.1683 - val_loss: 0.1457\n",
      "Epoch 28/100\n",
      "237/237 [==============================] - 2s 6ms/step - loss: 0.1631 - val_loss: 0.1409\n",
      "Epoch 29/100\n",
      "237/237 [==============================] - 2s 6ms/step - loss: 0.1589 - val_loss: 0.1334\n",
      "Epoch 30/100\n",
      "237/237 [==============================] - 2s 7ms/step - loss: 0.1523 - val_loss: 0.1251\n",
      "Epoch 31/100\n",
      "237/237 [==============================] - 2s 7ms/step - loss: 0.1503 - val_loss: 0.1218\n",
      "Epoch 32/100\n",
      "237/237 [==============================] - 2s 6ms/step - loss: 0.1439 - val_loss: 0.1161\n",
      "Epoch 33/100\n",
      "237/237 [==============================] - 2s 6ms/step - loss: 0.1410 - val_loss: 0.1090\n",
      "Epoch 34/100\n",
      "237/237 [==============================] - 2s 6ms/step - loss: 0.1364 - val_loss: 0.1031\n",
      "Epoch 35/100\n",
      "237/237 [==============================] - 2s 7ms/step - loss: 0.1316 - val_loss: 0.0990\n",
      "Epoch 36/100\n",
      "237/237 [==============================] - 2s 7ms/step - loss: 0.1262 - val_loss: 0.0977\n",
      "Epoch 37/100\n",
      "237/237 [==============================] - 2s 6ms/step - loss: 0.1223 - val_loss: 0.0881\n",
      "Epoch 38/100\n",
      "237/237 [==============================] - 2s 6ms/step - loss: 0.1182 - val_loss: 0.0831\n",
      "Epoch 39/100\n",
      "237/237 [==============================] - 2s 6ms/step - loss: 0.1147 - val_loss: 0.0781\n",
      "Epoch 40/100\n",
      "237/237 [==============================] - 2s 7ms/step - loss: 0.1098 - val_loss: 0.0797\n",
      "Epoch 41/100\n",
      "237/237 [==============================] - 2s 6ms/step - loss: 0.1063 - val_loss: 0.0741\n",
      "Epoch 42/100\n",
      "237/237 [==============================] - 2s 6ms/step - loss: 0.1042 - val_loss: 0.0689\n",
      "Epoch 43/100\n",
      "237/237 [==============================] - 2s 6ms/step - loss: 0.0993 - val_loss: 0.0631\n",
      "Epoch 44/100\n",
      "237/237 [==============================] - 2s 7ms/step - loss: 0.0981 - val_loss: 0.0652\n",
      "Epoch 45/100\n",
      "237/237 [==============================] - 2s 7ms/step - loss: 0.0944 - val_loss: 0.0677\n",
      "Epoch 46/100\n",
      "237/237 [==============================] - 2s 6ms/step - loss: 0.0912 - val_loss: 0.0607\n",
      "Epoch 47/100\n",
      "237/237 [==============================] - 2s 6ms/step - loss: 0.0896 - val_loss: 0.0606\n",
      "Epoch 48/100\n",
      "237/237 [==============================] - 2s 7ms/step - loss: 0.0873 - val_loss: 0.0576\n",
      "Epoch 49/100\n",
      "237/237 [==============================] - 2s 7ms/step - loss: 0.0841 - val_loss: 0.0545\n",
      "Epoch 50/100\n",
      "237/237 [==============================] - 2s 7ms/step - loss: 0.0834 - val_loss: 0.0542\n",
      "Epoch 51/100\n",
      "237/237 [==============================] - 2s 7ms/step - loss: 0.0825 - val_loss: 0.0526\n",
      "Epoch 52/100\n",
      "237/237 [==============================] - 2s 7ms/step - loss: 0.0802 - val_loss: 0.0513\n",
      "Epoch 53/100\n",
      "237/237 [==============================] - 2s 7ms/step - loss: 0.0800 - val_loss: 0.0500\n",
      "Epoch 54/100\n",
      "237/237 [==============================] - 2s 7ms/step - loss: 0.0770 - val_loss: 0.0508\n",
      "Epoch 55/100\n",
      "237/237 [==============================] - 2s 7ms/step - loss: 0.0758 - val_loss: 0.0487\n",
      "Epoch 56/100\n",
      "237/237 [==============================] - 2s 7ms/step - loss: 0.0746 - val_loss: 0.0479\n",
      "Epoch 57/100\n",
      "237/237 [==============================] - 2s 7ms/step - loss: 0.0748 - val_loss: 0.0488\n",
      "Epoch 58/100\n",
      "237/237 [==============================] - 2s 7ms/step - loss: 0.0732 - val_loss: 0.0463\n",
      "Epoch 59/100\n",
      "237/237 [==============================] - 2s 7ms/step - loss: 0.0734 - val_loss: 0.0477\n",
      "Epoch 60/100\n",
      "237/237 [==============================] - 2s 7ms/step - loss: 0.0716 - val_loss: 0.0449\n",
      "Epoch 61/100\n",
      "237/237 [==============================] - 2s 7ms/step - loss: 0.0706 - val_loss: 0.0461\n",
      "Epoch 62/100\n",
      "237/237 [==============================] - 2s 7ms/step - loss: 0.0693 - val_loss: 0.0443\n",
      "Epoch 63/100\n",
      "237/237 [==============================] - 2s 7ms/step - loss: 0.0673 - val_loss: 0.0433\n",
      "Epoch 64/100\n",
      "237/237 [==============================] - 2s 7ms/step - loss: 0.0668 - val_loss: 0.0428\n",
      "Epoch 65/100\n",
      "237/237 [==============================] - 2s 7ms/step - loss: 0.0658 - val_loss: 0.0430\n",
      "Epoch 66/100\n",
      "237/237 [==============================] - 2s 7ms/step - loss: 0.0672 - val_loss: 0.0430\n",
      "Epoch 67/100\n",
      "237/237 [==============================] - 2s 7ms/step - loss: 0.0651 - val_loss: 0.0414\n",
      "Epoch 68/100\n",
      "237/237 [==============================] - 2s 7ms/step - loss: 0.0658 - val_loss: 0.0419\n",
      "Epoch 69/100\n",
      "237/237 [==============================] - 2s 7ms/step - loss: 0.0653 - val_loss: 0.0415\n",
      "Epoch 70/100\n",
      "237/237 [==============================] - 2s 7ms/step - loss: 0.0646 - val_loss: 0.0411\n",
      "Epoch 71/100\n",
      "237/237 [==============================] - 2s 7ms/step - loss: 0.0624 - val_loss: 0.0419\n",
      "Epoch 72/100\n",
      "237/237 [==============================] - 2s 7ms/step - loss: 0.0617 - val_loss: 0.0413\n",
      "Epoch 73/100\n",
      "237/237 [==============================] - 2s 7ms/step - loss: 0.0622 - val_loss: 0.0408\n",
      "Epoch 74/100\n",
      "237/237 [==============================] - 2s 7ms/step - loss: 0.0630 - val_loss: 0.0404\n",
      "Epoch 75/100\n",
      "237/237 [==============================] - 2s 7ms/step - loss: 0.0612 - val_loss: 0.0403\n",
      "Epoch 76/100\n",
      "237/237 [==============================] - 2s 7ms/step - loss: 0.0602 - val_loss: 0.0395\n",
      "Epoch 77/100\n",
      "237/237 [==============================] - 2s 7ms/step - loss: 0.0597 - val_loss: 0.0396\n",
      "Epoch 78/100\n",
      "237/237 [==============================] - 2s 7ms/step - loss: 0.0600 - val_loss: 0.0398\n",
      "Epoch 79/100\n",
      "237/237 [==============================] - 2s 7ms/step - loss: 0.0606 - val_loss: 0.0388\n",
      "Epoch 80/100\n",
      "237/237 [==============================] - 2s 7ms/step - loss: 0.0584 - val_loss: 0.0390\n",
      "Epoch 81/100\n",
      "237/237 [==============================] - 2s 7ms/step - loss: 0.0584 - val_loss: 0.0394\n",
      "Epoch 82/100\n",
      "237/237 [==============================] - 2s 7ms/step - loss: 0.0582 - val_loss: 0.0390\n",
      "Epoch 83/100\n",
      "237/237 [==============================] - 2s 7ms/step - loss: 0.0586 - val_loss: 0.0398\n",
      "Epoch 84/100\n",
      "237/237 [==============================] - 2s 6ms/step - loss: 0.0571 - val_loss: 0.0409\n",
      "Epoch 85/100\n",
      "237/237 [==============================] - 2s 6ms/step - loss: 0.0586 - val_loss: 0.0385\n",
      "Epoch 86/100\n",
      "237/237 [==============================] - 2s 7ms/step - loss: 0.0564 - val_loss: 0.0381\n",
      "Epoch 87/100\n",
      "237/237 [==============================] - 2s 6ms/step - loss: 0.0551 - val_loss: 0.0378\n",
      "Epoch 88/100\n",
      "237/237 [==============================] - 2s 6ms/step - loss: 0.0564 - val_loss: 0.0377\n",
      "Epoch 89/100\n",
      "237/237 [==============================] - 2s 7ms/step - loss: 0.0568 - val_loss: 0.0377\n",
      "Epoch 90/100\n",
      "237/237 [==============================] - 2s 7ms/step - loss: 0.0555 - val_loss: 0.0386\n",
      "Epoch 91/100\n",
      "237/237 [==============================] - 2s 6ms/step - loss: 0.0549 - val_loss: 0.0371\n",
      "Epoch 92/100\n",
      "237/237 [==============================] - 2s 6ms/step - loss: 0.0545 - val_loss: 0.0374\n",
      "Epoch 93/100\n",
      "237/237 [==============================] - 2s 7ms/step - loss: 0.0540 - val_loss: 0.0372\n",
      "Epoch 94/100\n",
      "237/237 [==============================] - 2s 6ms/step - loss: 0.0547 - val_loss: 0.0371\n",
      "Epoch 95/100\n",
      "237/237 [==============================] - 2s 7ms/step - loss: 0.0547 - val_loss: 0.0388\n",
      "Epoch 96/100\n",
      "237/237 [==============================] - 2s 7ms/step - loss: 0.0545 - val_loss: 0.0373\n",
      "Epoch 97/100\n",
      "237/237 [==============================] - 2s 7ms/step - loss: 0.0536 - val_loss: 0.0373\n",
      "Epoch 98/100\n",
      "237/237 [==============================] - 2s 7ms/step - loss: 0.0535 - val_loss: 0.0368\n",
      "Epoch 99/100\n",
      "237/237 [==============================] - 2s 7ms/step - loss: 0.0549 - val_loss: 0.0366\n",
      "Epoch 100/100\n",
      "237/237 [==============================] - 2s 7ms/step - loss: 0.0533 - val_loss: 0.0359\n",
      "157.79233470000327\n"
     ]
    }
   ],
   "source": [
    "start = perf_counter()\n",
    "\n",
    "history = model.fit(\n",
    "    cnn_reshape(x_train),\n",
    "    y_train,\n",
    "    epochs=100,\n",
    "    validation_data=(cnn_reshape(x_val), y_val),\n",
    "    batch_size=80,\n",
    ")\n",
    "\n",
    "print(perf_counter() - start)"
   ]
  },
  {
   "cell_type": "code",
   "execution_count": 147,
   "id": "4b746f0f-655e-40b8-bf44-276f5202b7ae",
   "metadata": {},
   "outputs": [
    {
     "name": "stdout",
     "output_type": "stream",
     "text": [
      "148/148 [==============================] - 0s 1ms/step\n"
     ]
    },
    {
     "data": {
      "text/plain": [
       "(0.8374894336432798, 1.0)"
      ]
     },
     "execution_count": 147,
     "metadata": {},
     "output_type": "execute_result"
    }
   ],
   "source": [
    "y_pred = model.predict(x_val)\n",
    "\n",
    "(~y_val).mean(), ((y_pred > .5) == y_val).mean()"
   ]
  },
  {
   "cell_type": "code",
   "execution_count": 148,
   "id": "0469e17e-c812-4388-8bf0-05e2448c0d3e",
   "metadata": {},
   "outputs": [
    {
     "data": {
      "text/plain": [
       "Text(0.5, 1.0, 'NN Loss over Training')"
      ]
     },
     "execution_count": 148,
     "metadata": {},
     "output_type": "execute_result"
    },
    {
     "data": {
      "image/png": "[encoded data removed]",
      "text/plain": [
       "<Figure size 640x480 with 1 Axes>"
      ]
     },
     "metadata": {},
     "output_type": "display_data"
    }
   ],
   "source": [
    "fig = plt.figure()\n",
    "ax = plt.gca()\n",
    "\n",
    "ax.plot(history.history['loss'], label='Training')\n",
    "ax.plot(\n",
    "    np.convolve(np.array(history.history['val_loss']), np.ones(5)/5, mode='valid'),\n",
    "    label='Validation (Running Mean)'\n",
    ")\n",
    "ax.legend()\n",
    "ax.set_xlabel('# Epochs')\n",
    "ax.set_ylabel('Loss')\n",
    "ax.set_ylim((0, 1))\n",
    "ax.set_title('NN Loss over Training')"
   ]
  },
  {
   "cell_type": "markdown",
   "id": "3b89ace9-8c98-4953-91eb-acc9b86fea2f",
   "metadata": {},
   "source": [
    "## Interpretation"
   ]
  },
  {
   "cell_type": "code",
   "execution_count": 149,
   "id": "dbfe01d9-25a2-4053-adec-a606b3571dd8",
   "metadata": {},
   "outputs": [],
   "source": [
    "with tf.GradientTape() as tape:\n",
    "    x = tf.Variable(x_pca)\n",
    "    outs = model(x)\n",
    "    grads = tape.gradient(outs, x)\n",
    "    sensitivity = (grads * x).numpy()\n",
    "    sensitivity = (sensitivity-sensitivity.min(axis=0))/(sensitivity.max(axis=0)-sensitivity.min(axis=0))"
   ]
  },
  {
   "cell_type": "code",
   "execution_count": 152,
   "id": "f247a2ff-1412-4572-8a2c-d60f4009aab9",
   "metadata": {
    "scrolled": true
   },
   "outputs": [
    {
     "data": {
      "text/plain": [
       "array([[4.83148079e-02, 1.65979927e-01, 1.44912266e-01, 1.38736688e-02,\n",
       "        2.46772210e-02, 1.19300044e-01, 3.23751705e-01, 1.06833695e-01,\n",
       "        1.81838097e-01, 9.05949800e-02, 7.99219521e-02, 3.97084875e-02,\n",
       "        1.64327171e-03, 1.72671474e-02, 1.28238424e-01, 1.27859121e-01,\n",
       "        2.05214616e-01, 1.77412590e-01, 3.62767368e-02, 2.76309334e-02,\n",
       "        2.97387996e-02, 1.74875708e-02, 1.64502837e-01, 5.70859747e-02,\n",
       "        6.03813687e-02, 5.87057845e-02, 5.52018474e-03, 1.09794209e-01,\n",
       "        4.52096598e-01, 2.37079444e-01, 1.71035410e-01, 4.07594492e-02,\n",
       "        3.98160456e-02, 1.64882489e-01, 6.18736929e-02],\n",
       "       [3.93976969e-01, 8.23019283e-02, 2.77325278e-01, 1.04652082e-01,\n",
       "        5.06766611e-01, 1.42227269e-01, 1.21592218e-01, 1.97056940e-02,\n",
       "        5.52539811e-01, 1.12407755e-01, 5.22816579e-01, 5.53842526e-01,\n",
       "        5.58532204e-01, 1.83065863e-01, 2.92999566e-01, 2.76557487e-01,\n",
       "        2.85428312e-01, 8.07236347e-03, 7.53081032e-02, 1.56596757e-01,\n",
       "        2.22881976e-01, 7.25266806e-01, 1.84260462e-01, 4.57260984e-01,\n",
       "        4.57249874e-01, 2.89355470e-01, 6.02730523e-02, 7.21388971e-01,\n",
       "        1.17086569e+00, 7.10901050e-02, 5.97930420e-01, 1.18882551e-01,\n",
       "        1.92670242e-01, 1.68636594e-01, 6.47525285e-01],\n",
       "       [2.60043090e-02, 7.47453009e-02, 4.64871303e-03, 3.22445302e-02,\n",
       "        1.92868403e-01, 2.37174477e-02, 2.12394595e-01, 6.31483215e-02,\n",
       "        6.29139295e-03, 1.84354116e-01, 2.11262826e-01, 2.52947733e-02,\n",
       "        2.48477039e-02, 8.68872940e-02, 6.02184696e-02, 1.72048526e-01,\n",
       "        4.34461383e-02, 4.39688178e-03, 3.66116640e-02, 3.60568107e-02,\n",
       "        1.05332636e-01, 9.28803262e-02, 2.13509289e-01, 4.12695258e-03,\n",
       "        9.51226685e-02, 1.76349395e-02, 1.99091284e-02, 6.31667747e-02,\n",
       "        5.89091730e-02, 2.11286304e-02, 6.42831105e-02, 9.06520774e-02,\n",
       "        4.99846150e-02, 2.76072085e-04, 4.31985187e-02],\n",
       "       [8.59235350e-02, 3.51722212e-02, 1.70719228e-01, 3.62429924e-02,\n",
       "        8.58659774e-02, 2.54138644e-02, 5.26390536e-01, 2.16004807e-01,\n",
       "        8.27717839e-02, 4.17310143e-02, 1.85715334e-01, 1.11807546e-02,\n",
       "        1.19762334e-01, 2.07392881e-01, 6.01791497e-02, 1.70352265e-01,\n",
       "        2.28231152e-01, 2.81048715e-01, 4.58033370e-02, 1.53055401e-01,\n",
       "        2.23030401e-02, 1.25402771e-01, 7.30987063e-02, 1.22933914e-01,\n",
       "        7.01086953e-02, 1.71241802e-01, 1.44009379e-02, 8.55819217e-02,\n",
       "        3.85674154e-01, 1.88938572e-01, 5.44851346e-02, 1.20789708e-01,\n",
       "        4.21782132e-01, 2.42114061e-01, 2.42532555e-02],\n",
       "       [2.78985782e-02, 2.05382701e-02, 2.13184443e-02, 1.06869980e-01,\n",
       "        8.37393429e-02, 6.33674804e-02, 2.31997157e-01, 1.25969500e-01,\n",
       "        8.02300633e-02, 9.09163456e-02, 3.98868249e-02, 8.08769959e-02,\n",
       "        2.42292384e-02, 1.00164359e-01, 9.27208809e-02, 1.29109658e-01,\n",
       "        3.87761233e-02, 8.60704688e-02, 8.34553108e-02, 1.45468976e-02,\n",
       "        6.24412243e-02, 7.35010542e-02, 1.04368234e-01, 7.95219481e-02,\n",
       "        4.66239467e-02, 5.75959237e-02, 1.06972697e-01, 3.69612174e-02,\n",
       "        2.03306809e-01, 9.99221239e-02, 3.80616214e-02, 1.43571002e-01,\n",
       "        8.22888373e-02, 2.19479553e-02, 2.71931873e-02]])"
      ]
     },
     "execution_count": 152,
     "metadata": {},
     "output_type": "execute_result"
    }
   ],
   "source": [
    "s_z = np.empty((len(stresses), sensitivity.shape[1]))\n",
    "for i in range(len(stresses)):\n",
    "    s_i = y[:,i]\n",
    "    s_z[i] = np.abs(sensitivity[s_i].mean(axis=0) - sensitivity[~s_i].mean(axis=0))/sensitivity[~s_i].std(axis=0)\n",
    "s_z"
   ]
  }
 ],
 "metadata": {
  "kernelspec": {
   "display_name": "Python 3 (ipykernel)",
   "language": "python",
   "name": "python3"
  },
  "language_info": {
   "codemirror_mode": {
    "name": "ipython",
    "version": 3
   },
   "file_extension": ".py",
   "mimetype": "text/x-python",
   "name": "python",
   "nbconvert_exporter": "python",
   "pygments_lexer": "ipython3",
   "version": "3.11.4"
  }
 },
 "nbformat": 4,
 "nbformat_minor": 5
}
