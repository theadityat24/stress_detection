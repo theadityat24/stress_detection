{
 "cells": [
  {
   "cell_type": "code",
   "execution_count": 1,
   "id": "c8cb5ce0-f5b7-49f2-860c-77800a1c158e",
   "metadata": {},
   "outputs": [],
   "source": [
    "import numpy as np\n",
    "import pandas as pd\n",
    "import matplotlib.pyplot as plt\n",
    "\n",
    "from sklearn.model_selection import train_test_split\n",
    "from sklearn.decomposition import PCA\n",
    "from scipy.stats import norm\n",
    "from sklearn.tree import DecisionTreeClassifier, plot_tree\n",
    "\n",
    "import tensorflow as tf\n",
    "\n",
    "from keras.models import Sequential, Model\n",
    "from keras.layers import Conv1D, MaxPooling1D, Dense, Flatten, Input, AveragePooling1D, Dropout, Softmax\n",
    "from keras.optimizers import Adam, Nadam\n",
    "from keras.regularizers import L2\n",
    "from keras.callbacks import ReduceLROnPlateau, LearningRateScheduler, Callback, LambdaCallback\n",
    "from keras.metrics import Metric\n",
    "\n",
    "from time import perf_counter\n",
    "import functools\n",
    "import itertools\n",
    "import sys"
   ]
  },
  {
   "cell_type": "code",
   "execution_count": 2,
   "id": "4719d771-9fca-4e41-be72-bbea116b0c21",
   "metadata": {},
   "outputs": [],
   "source": [
    "stresses = ['Gm', 'Drought', 'Nutrient_Deficiency', 'Fs', 'Salinity']"
   ]
  },
  {
   "cell_type": "code",
   "execution_count": 3,
   "id": "637f054d-6243-4486-9e3c-05af014aa535",
   "metadata": {},
   "outputs": [
    {
     "name": "stderr",
     "output_type": "stream",
     "text": [
      "C:\\Users\\amitt\\AppData\\Local\\Temp\\ipykernel_4232\\1297277926.py:2: DtypeWarning: Columns (4) have mixed types. Specify dtype option on import or set low_memory=False.\n",
      "  df = pd.read_csv(csv_path)\n"
     ]
    }
   ],
   "source": [
    "csv_path = r'..\\combined.csv'\n",
    "df = pd.read_csv(csv_path)\n",
    "df.drop(columns=['Unnamed: 0'], inplace=True, errors='ignore')\n",
    "df.drop(columns=['Fungal_infection'], inplace=True, errors='ignore')\n",
    "df[stresses] = df[stresses].astype(bool)"
   ]
  },
  {
   "cell_type": "code",
   "execution_count": 4,
   "id": "057ff01b-88c7-4b81-8760-b17477496043",
   "metadata": {},
   "outputs": [],
   "source": [
    "spec_cols = [col for col in df.columns if col[0] == 'X']"
   ]
  },
  {
   "cell_type": "code",
   "execution_count": 4,
   "id": "24d33067-2d0e-42e6-86e4-40f364a730e1",
   "metadata": {},
   "outputs": [
    {
     "data": {
      "text/html": [
       "<div>\n",
       "<style scoped>\n",
       "    .dataframe tbody tr th:only-of-type {\n",
       "        vertical-align: middle;\n",
       "    }\n",
       "\n",
       "    .dataframe tbody tr th {\n",
       "        vertical-align: top;\n",
       "    }\n",
       "\n",
       "    .dataframe thead th {\n",
       "        text-align: right;\n",
       "    }\n",
       "</style>\n",
       "<table border=\"1\" class=\"dataframe\">\n",
       "  <thead>\n",
       "    <tr style=\"text-align: right;\">\n",
       "      <th></th>\n",
       "      <th>Experiment</th>\n",
       "      <th>Time</th>\n",
       "      <th>Species</th>\n",
       "      <th>Soil</th>\n",
       "      <th>Gm</th>\n",
       "      <th>Drought</th>\n",
       "      <th>Nutrient_Deficiency</th>\n",
       "      <th>Fs</th>\n",
       "      <th>Salinity</th>\n",
       "      <th>X350</th>\n",
       "      <th>...</th>\n",
       "      <th>B_carotene</th>\n",
       "      <th>Glucose</th>\n",
       "      <th>Fructose</th>\n",
       "      <th>Sucrose</th>\n",
       "      <th>Sugars</th>\n",
       "      <th>Starch</th>\n",
       "      <th>Ellagic</th>\n",
       "      <th>Gal</th>\n",
       "      <th>Rut</th>\n",
       "      <th>CTs</th>\n",
       "    </tr>\n",
       "  </thead>\n",
       "  <tbody>\n",
       "    <tr>\n",
       "      <th>0</th>\n",
       "      <td>2018_EEL</td>\n",
       "      <td>0</td>\n",
       "      <td>Black Walnut</td>\n",
       "      <td>F</td>\n",
       "      <td>False</td>\n",
       "      <td>False</td>\n",
       "      <td>False</td>\n",
       "      <td>False</td>\n",
       "      <td>False</td>\n",
       "      <td>0.0995</td>\n",
       "      <td>...</td>\n",
       "      <td>180.672913</td>\n",
       "      <td>4.114120</td>\n",
       "      <td>4.321044</td>\n",
       "      <td>2.106877</td>\n",
       "      <td>10.377295</td>\n",
       "      <td>2.430284</td>\n",
       "      <td>215.327766</td>\n",
       "      <td>123.012942</td>\n",
       "      <td>37.911137</td>\n",
       "      <td>16.153354</td>\n",
       "    </tr>\n",
       "    <tr>\n",
       "      <th>1</th>\n",
       "      <td>2018_EEL</td>\n",
       "      <td>0</td>\n",
       "      <td>Black Walnut</td>\n",
       "      <td>F</td>\n",
       "      <td>False</td>\n",
       "      <td>False</td>\n",
       "      <td>False</td>\n",
       "      <td>False</td>\n",
       "      <td>False</td>\n",
       "      <td>0.0995</td>\n",
       "      <td>...</td>\n",
       "      <td>185.691351</td>\n",
       "      <td>5.253359</td>\n",
       "      <td>4.398900</td>\n",
       "      <td>2.090093</td>\n",
       "      <td>10.430779</td>\n",
       "      <td>1.620732</td>\n",
       "      <td>159.648059</td>\n",
       "      <td>140.224392</td>\n",
       "      <td>34.913800</td>\n",
       "      <td>12.904982</td>\n",
       "    </tr>\n",
       "    <tr>\n",
       "      <th>2</th>\n",
       "      <td>2018_EEL</td>\n",
       "      <td>0</td>\n",
       "      <td>Black Walnut</td>\n",
       "      <td>F</td>\n",
       "      <td>False</td>\n",
       "      <td>False</td>\n",
       "      <td>False</td>\n",
       "      <td>False</td>\n",
       "      <td>False</td>\n",
       "      <td>0.0995</td>\n",
       "      <td>...</td>\n",
       "      <td>223.876583</td>\n",
       "      <td>5.130809</td>\n",
       "      <td>4.122389</td>\n",
       "      <td>2.148208</td>\n",
       "      <td>9.001072</td>\n",
       "      <td>1.204313</td>\n",
       "      <td>169.093819</td>\n",
       "      <td>137.268720</td>\n",
       "      <td>26.315744</td>\n",
       "      <td>13.429072</td>\n",
       "    </tr>\n",
       "    <tr>\n",
       "      <th>3</th>\n",
       "      <td>2018_EEL</td>\n",
       "      <td>0</td>\n",
       "      <td>Black Walnut</td>\n",
       "      <td>F</td>\n",
       "      <td>False</td>\n",
       "      <td>False</td>\n",
       "      <td>False</td>\n",
       "      <td>False</td>\n",
       "      <td>False</td>\n",
       "      <td>0.0995</td>\n",
       "      <td>...</td>\n",
       "      <td>134.435161</td>\n",
       "      <td>6.996149</td>\n",
       "      <td>5.455238</td>\n",
       "      <td>1.557863</td>\n",
       "      <td>14.307212</td>\n",
       "      <td>5.177277</td>\n",
       "      <td>98.561955</td>\n",
       "      <td>70.040873</td>\n",
       "      <td>15.097144</td>\n",
       "      <td>13.590456</td>\n",
       "    </tr>\n",
       "    <tr>\n",
       "      <th>4</th>\n",
       "      <td>2018_EEL</td>\n",
       "      <td>0</td>\n",
       "      <td>Black Walnut</td>\n",
       "      <td>F</td>\n",
       "      <td>False</td>\n",
       "      <td>False</td>\n",
       "      <td>False</td>\n",
       "      <td>False</td>\n",
       "      <td>False</td>\n",
       "      <td>0.0995</td>\n",
       "      <td>...</td>\n",
       "      <td>160.339162</td>\n",
       "      <td>6.490596</td>\n",
       "      <td>3.602786</td>\n",
       "      <td>2.163037</td>\n",
       "      <td>10.592087</td>\n",
       "      <td>1.899691</td>\n",
       "      <td>244.166164</td>\n",
       "      <td>169.102470</td>\n",
       "      <td>40.167820</td>\n",
       "      <td>18.469889</td>\n",
       "    </tr>\n",
       "    <tr>\n",
       "      <th>...</th>\n",
       "      <td>...</td>\n",
       "      <td>...</td>\n",
       "      <td>...</td>\n",
       "      <td>...</td>\n",
       "      <td>...</td>\n",
       "      <td>...</td>\n",
       "      <td>...</td>\n",
       "      <td>...</td>\n",
       "      <td>...</td>\n",
       "      <td>...</td>\n",
       "      <td>...</td>\n",
       "      <td>...</td>\n",
       "      <td>...</td>\n",
       "      <td>...</td>\n",
       "      <td>...</td>\n",
       "      <td>...</td>\n",
       "      <td>...</td>\n",
       "      <td>...</td>\n",
       "      <td>...</td>\n",
       "      <td>...</td>\n",
       "      <td>...</td>\n",
       "    </tr>\n",
       "    <tr>\n",
       "      <th>23651</th>\n",
       "      <td>2019_Martell</td>\n",
       "      <td>2</td>\n",
       "      <td>Red Oak</td>\n",
       "      <td>NaN</td>\n",
       "      <td>False</td>\n",
       "      <td>False</td>\n",
       "      <td>False</td>\n",
       "      <td>False</td>\n",
       "      <td>True</td>\n",
       "      <td>0.1006</td>\n",
       "      <td>...</td>\n",
       "      <td>50.680347</td>\n",
       "      <td>0.491981</td>\n",
       "      <td>2.142298</td>\n",
       "      <td>2.022112</td>\n",
       "      <td>6.362280</td>\n",
       "      <td>0.064974</td>\n",
       "      <td>229.208398</td>\n",
       "      <td>46.702728</td>\n",
       "      <td>30.452206</td>\n",
       "      <td>2.524192</td>\n",
       "    </tr>\n",
       "    <tr>\n",
       "      <th>23652</th>\n",
       "      <td>2019_Martell</td>\n",
       "      <td>2</td>\n",
       "      <td>Red Oak</td>\n",
       "      <td>NaN</td>\n",
       "      <td>False</td>\n",
       "      <td>False</td>\n",
       "      <td>False</td>\n",
       "      <td>False</td>\n",
       "      <td>True</td>\n",
       "      <td>0.1006</td>\n",
       "      <td>...</td>\n",
       "      <td>2.102093</td>\n",
       "      <td>3.317779</td>\n",
       "      <td>2.946461</td>\n",
       "      <td>4.029103</td>\n",
       "      <td>8.485325</td>\n",
       "      <td>0.677890</td>\n",
       "      <td>228.950841</td>\n",
       "      <td>102.741536</td>\n",
       "      <td>46.396327</td>\n",
       "      <td>6.360440</td>\n",
       "    </tr>\n",
       "    <tr>\n",
       "      <th>23653</th>\n",
       "      <td>2019_Martell</td>\n",
       "      <td>2</td>\n",
       "      <td>Red Oak</td>\n",
       "      <td>NaN</td>\n",
       "      <td>False</td>\n",
       "      <td>False</td>\n",
       "      <td>False</td>\n",
       "      <td>False</td>\n",
       "      <td>True</td>\n",
       "      <td>0.1006</td>\n",
       "      <td>...</td>\n",
       "      <td>7.064565</td>\n",
       "      <td>1.433723</td>\n",
       "      <td>1.722290</td>\n",
       "      <td>1.883972</td>\n",
       "      <td>5.001576</td>\n",
       "      <td>-2.390555</td>\n",
       "      <td>439.018157</td>\n",
       "      <td>102.577759</td>\n",
       "      <td>34.947248</td>\n",
       "      <td>9.521822</td>\n",
       "    </tr>\n",
       "    <tr>\n",
       "      <th>23654</th>\n",
       "      <td>2019_Martell</td>\n",
       "      <td>2</td>\n",
       "      <td>Red Oak</td>\n",
       "      <td>NaN</td>\n",
       "      <td>False</td>\n",
       "      <td>False</td>\n",
       "      <td>False</td>\n",
       "      <td>False</td>\n",
       "      <td>True</td>\n",
       "      <td>0.1006</td>\n",
       "      <td>...</td>\n",
       "      <td>11.266166</td>\n",
       "      <td>0.839294</td>\n",
       "      <td>2.183542</td>\n",
       "      <td>2.365718</td>\n",
       "      <td>5.722241</td>\n",
       "      <td>0.596050</td>\n",
       "      <td>311.728885</td>\n",
       "      <td>39.374667</td>\n",
       "      <td>34.287740</td>\n",
       "      <td>1.880939</td>\n",
       "    </tr>\n",
       "    <tr>\n",
       "      <th>23655</th>\n",
       "      <td>2019_Martell</td>\n",
       "      <td>2</td>\n",
       "      <td>Red Oak</td>\n",
       "      <td>NaN</td>\n",
       "      <td>False</td>\n",
       "      <td>False</td>\n",
       "      <td>False</td>\n",
       "      <td>False</td>\n",
       "      <td>True</td>\n",
       "      <td>0.1006</td>\n",
       "      <td>...</td>\n",
       "      <td>-13.215838</td>\n",
       "      <td>1.250688</td>\n",
       "      <td>2.297793</td>\n",
       "      <td>0.106272</td>\n",
       "      <td>2.943095</td>\n",
       "      <td>-1.305412</td>\n",
       "      <td>331.886485</td>\n",
       "      <td>90.617441</td>\n",
       "      <td>44.667220</td>\n",
       "      <td>6.936594</td>\n",
       "    </tr>\n",
       "  </tbody>\n",
       "</table>\n",
       "<p>23656 rows × 2195 columns</p>\n",
       "</div>"
      ],
      "text/plain": [
       "         Experiment  Time       Species Soil     Gm  Drought  \\\n",
       "0          2018_EEL     0  Black Walnut    F  False    False   \n",
       "1          2018_EEL     0  Black Walnut    F  False    False   \n",
       "2          2018_EEL     0  Black Walnut    F  False    False   \n",
       "3          2018_EEL     0  Black Walnut    F  False    False   \n",
       "4          2018_EEL     0  Black Walnut    F  False    False   \n",
       "...             ...   ...           ...  ...    ...      ...   \n",
       "23651  2019_Martell     2       Red Oak  NaN  False    False   \n",
       "23652  2019_Martell     2       Red Oak  NaN  False    False   \n",
       "23653  2019_Martell     2       Red Oak  NaN  False    False   \n",
       "23654  2019_Martell     2       Red Oak  NaN  False    False   \n",
       "23655  2019_Martell     2       Red Oak  NaN  False    False   \n",
       "\n",
       "       Nutrient_Deficiency     Fs  Salinity    X350  ...  B_carotene  \\\n",
       "0                    False  False     False  0.0995  ...  180.672913   \n",
       "1                    False  False     False  0.0995  ...  185.691351   \n",
       "2                    False  False     False  0.0995  ...  223.876583   \n",
       "3                    False  False     False  0.0995  ...  134.435161   \n",
       "4                    False  False     False  0.0995  ...  160.339162   \n",
       "...                    ...    ...       ...     ...  ...         ...   \n",
       "23651                False  False      True  0.1006  ...   50.680347   \n",
       "23652                False  False      True  0.1006  ...    2.102093   \n",
       "23653                False  False      True  0.1006  ...    7.064565   \n",
       "23654                False  False      True  0.1006  ...   11.266166   \n",
       "23655                False  False      True  0.1006  ...  -13.215838   \n",
       "\n",
       "        Glucose  Fructose   Sucrose     Sugars    Starch     Ellagic  \\\n",
       "0      4.114120  4.321044  2.106877  10.377295  2.430284  215.327766   \n",
       "1      5.253359  4.398900  2.090093  10.430779  1.620732  159.648059   \n",
       "2      5.130809  4.122389  2.148208   9.001072  1.204313  169.093819   \n",
       "3      6.996149  5.455238  1.557863  14.307212  5.177277   98.561955   \n",
       "4      6.490596  3.602786  2.163037  10.592087  1.899691  244.166164   \n",
       "...         ...       ...       ...        ...       ...         ...   \n",
       "23651  0.491981  2.142298  2.022112   6.362280  0.064974  229.208398   \n",
       "23652  3.317779  2.946461  4.029103   8.485325  0.677890  228.950841   \n",
       "23653  1.433723  1.722290  1.883972   5.001576 -2.390555  439.018157   \n",
       "23654  0.839294  2.183542  2.365718   5.722241  0.596050  311.728885   \n",
       "23655  1.250688  2.297793  0.106272   2.943095 -1.305412  331.886485   \n",
       "\n",
       "              Gal        Rut        CTs  \n",
       "0      123.012942  37.911137  16.153354  \n",
       "1      140.224392  34.913800  12.904982  \n",
       "2      137.268720  26.315744  13.429072  \n",
       "3       70.040873  15.097144  13.590456  \n",
       "4      169.102470  40.167820  18.469889  \n",
       "...           ...        ...        ...  \n",
       "23651   46.702728  30.452206   2.524192  \n",
       "23652  102.741536  46.396327   6.360440  \n",
       "23653  102.577759  34.947248   9.521822  \n",
       "23654   39.374667  34.287740   1.880939  \n",
       "23655   90.617441  44.667220   6.936594  \n",
       "\n",
       "[23656 rows x 2195 columns]"
      ]
     },
     "execution_count": 4,
     "metadata": {},
     "output_type": "execute_result"
    }
   ],
   "source": [
    "df"
   ]
  },
  {
   "cell_type": "code",
   "execution_count": 5,
   "id": "57b48d75-9016-409e-afc8-abd0bece7eec",
   "metadata": {},
   "outputs": [],
   "source": [
    "trait_cols = df.columns[list(df.columns).index(spec_cols[-1])+1:]"
   ]
  },
  {
   "cell_type": "code",
   "execution_count": 6,
   "id": "db678160-215d-4a7b-a2ce-baf2e5bbb046",
   "metadata": {},
   "outputs": [
    {
     "data": {
      "text/plain": [
       "Index(['Photo', 'Ci', 'Cond', 'CTleaf', 'Trmmol', 'WUEi', 'WUEin', 'Fv_Fm',\n",
       "       'Fv_Fo', 'PI', 'SLA', 'LWC', 'Suc', 'OP', 'OP100', 'RWC', 'WP', 'N',\n",
       "       'C', 'Neoxanthin', 'Violaxanthin', 'Lutein', 'Zeaxanthin', 'Chl_b',\n",
       "       'Chl_a', 'B_carotene', 'Glucose', 'Fructose', 'Sucrose', 'Sugars',\n",
       "       'Starch', 'Ellagic', 'Gal', 'Rut', 'CTs'],\n",
       "      dtype='object')"
      ]
     },
     "execution_count": 6,
     "metadata": {},
     "output_type": "execute_result"
    }
   ],
   "source": [
    "trait_cols"
   ]
  },
  {
   "cell_type": "markdown",
   "id": "824e7187-f76b-4497-8bc2-ea41158e350a",
   "metadata": {},
   "source": [
    "## NN"
   ]
  },
  {
   "cell_type": "code",
   "execution_count": 7,
   "id": "5c57e57a-d38d-4139-816a-a5c782ccd1ea",
   "metadata": {},
   "outputs": [],
   "source": [
    "x = df[trait_cols].values\n",
    "\n",
    "x = (x - x.min(axis=0))/(x.max(axis=0)-x.min(axis=0))\n",
    "y = df[stresses].values\n",
    "\n",
    "x_train, x_val, y_train, y_val = train_test_split(x, y, test_size=.2)"
   ]
  },
  {
   "cell_type": "code",
   "execution_count": 30,
   "id": "ffbeda64-aa36-49bb-ae0a-26163a85ede3",
   "metadata": {},
   "outputs": [],
   "source": [
    "del df"
   ]
  },
  {
   "cell_type": "code",
   "execution_count": 8,
   "id": "a7ee8bfe-fcb0-4241-900e-15e52794591b",
   "metadata": {},
   "outputs": [],
   "source": [
    "class Accuracy(Metric):\n",
    "    def __init__(self, name='accuracy', **kwargs):\n",
    "        super().__init__(name=name, **kwargs)\n",
    "        self.accuracy = self.add_variable(\n",
    "            shape=(),\n",
    "            initializer='zeros',\n",
    "            name='accuracy'\n",
    "        )\n",
    "\n",
    "    def update_state(self, y_true, y_pred, sample_weight=None):\n",
    "        p = tf.cast(tf.reduce_all((y_pred > .5) == y_true, axis=1), tf.float32)\n",
    "        \n",
    "        self.accuracy.assign(tf.reduce_mean(p))\n",
    "\n",
    "    def result(self):\n",
    "        return self.accuracy"
   ]
  },
  {
   "cell_type": "code",
   "execution_count": 9,
   "id": "02717ef7-b27d-4a48-909e-c2f4457af7a5",
   "metadata": {},
   "outputs": [],
   "source": [
    "model = Sequential([\n",
    "    Input((x.shape[1],)),\n",
    "    Dense(256, kernel_regularizer=L2(.00), activation='relu'),\n",
    "    Dropout(.2),\n",
    "    Dense(256, kernel_regularizer=L2(.00), activation='relu'),\n",
    "    Dropout(.2),\n",
    "    Dense(256, kernel_regularizer=L2(.00), activation='relu'),\n",
    "    Dropout(.2),\n",
    "    Dense(256, kernel_regularizer=L2(.00), activation='relu'),\n",
    "    Dropout(.1),\n",
    "    Dense(256, kernel_regularizer=L2(.00), activation='relu'),\n",
    "    Dropout(.1),\n",
    "    Dense(256, kernel_regularizer=L2(.00), activation='relu'),\n",
    "    Dropout(.1),\n",
    "    Dense(y.shape[1], activation='sigmoid'),\n",
    "])\n",
    "\n",
    "model.compile(optimizer=Nadam(1e-4), loss='binary_crossentropy', metrics=[Accuracy])"
   ]
  },
  {
   "cell_type": "code",
   "execution_count": 10,
   "id": "5110f59b-aebe-41fa-9c75-ca8800fdb892",
   "metadata": {
    "scrolled": true
   },
   "outputs": [
    {
     "name": "stdout",
     "output_type": "stream",
     "text": [
      "Epoch 1/100\n",
      "\u001b[1m237/237\u001b[0m \u001b[32m━━━━━━━━━━━━━━━━━━━━\u001b[0m\u001b[37m\u001b[0m \u001b[1m4s\u001b[0m 7ms/step - accuracy: 0.3752 - loss: 0.4967 - val_accuracy: 0.2500 - val_loss: 0.3325\n",
      "Epoch 2/100\n",
      "\u001b[1m237/237\u001b[0m \u001b[32m━━━━━━━━━━━━━━━━━━━━\u001b[0m\u001b[37m\u001b[0m \u001b[1m2s\u001b[0m 7ms/step - accuracy: 0.3963 - loss: 0.3308 - val_accuracy: 0.5000 - val_loss: 0.2760\n",
      "Epoch 3/100\n",
      "\u001b[1m237/237\u001b[0m \u001b[32m━━━━━━━━━━━━━━━━━━━━\u001b[0m\u001b[37m\u001b[0m \u001b[1m1s\u001b[0m 6ms/step - accuracy: 0.4147 - loss: 0.2896 - val_accuracy: 0.3333 - val_loss: 0.2568\n",
      "Epoch 4/100\n",
      "\u001b[1m237/237\u001b[0m \u001b[32m━━━━━━━━━━━━━━━━━━━━\u001b[0m\u001b[37m\u001b[0m \u001b[1m2s\u001b[0m 7ms/step - accuracy: 0.4398 - loss: 0.2668 - val_accuracy: 0.6667 - val_loss: 0.2408\n",
      "Epoch 5/100\n",
      "\u001b[1m237/237\u001b[0m \u001b[32m━━━━━━━━━━━━━━━━━━━━\u001b[0m\u001b[37m\u001b[0m \u001b[1m2s\u001b[0m 7ms/step - accuracy: 0.4484 - loss: 0.2529 - val_accuracy: 0.5833 - val_loss: 0.2324\n",
      "Epoch 6/100\n",
      "\u001b[1m237/237\u001b[0m \u001b[32m━━━━━━━━━━━━━━━━━━━━\u001b[0m\u001b[37m\u001b[0m \u001b[1m2s\u001b[0m 7ms/step - accuracy: 0.4634 - loss: 0.2414 - val_accuracy: 0.5833 - val_loss: 0.2158\n",
      "Epoch 7/100\n",
      "\u001b[1m237/237\u001b[0m \u001b[32m━━━━━━━━━━━━━━━━━━━━\u001b[0m\u001b[37m\u001b[0m \u001b[1m2s\u001b[0m 7ms/step - accuracy: 0.4729 - loss: 0.2327 - val_accuracy: 0.3333 - val_loss: 0.2109\n",
      "Epoch 8/100\n",
      "\u001b[1m237/237\u001b[0m \u001b[32m━━━━━━━━━━━━━━━━━━━━\u001b[0m\u001b[37m\u001b[0m \u001b[1m2s\u001b[0m 7ms/step - accuracy: 0.4975 - loss: 0.2242 - val_accuracy: 0.5833 - val_loss: 0.2021\n",
      "Epoch 9/100\n",
      "\u001b[1m237/237\u001b[0m \u001b[32m━━━━━━━━━━━━━━━━━━━━\u001b[0m\u001b[37m\u001b[0m \u001b[1m2s\u001b[0m 7ms/step - accuracy: 0.5134 - loss: 0.2174 - val_accuracy: 0.6667 - val_loss: 0.1958\n",
      "Epoch 10/100\n",
      "\u001b[1m237/237\u001b[0m \u001b[32m━━━━━━━━━━━━━━━━━━━━\u001b[0m\u001b[37m\u001b[0m \u001b[1m2s\u001b[0m 7ms/step - accuracy: 0.5204 - loss: 0.2121 - val_accuracy: 0.6667 - val_loss: 0.1898\n",
      "Epoch 11/100\n",
      "\u001b[1m237/237\u001b[0m \u001b[32m━━━━━━━━━━━━━━━━━━━━\u001b[0m\u001b[37m\u001b[0m \u001b[1m2s\u001b[0m 7ms/step - accuracy: 0.5416 - loss: 0.2055 - val_accuracy: 0.6667 - val_loss: 0.1824\n",
      "Epoch 12/100\n",
      "\u001b[1m237/237\u001b[0m \u001b[32m━━━━━━━━━━━━━━━━━━━━\u001b[0m\u001b[37m\u001b[0m \u001b[1m2s\u001b[0m 7ms/step - accuracy: 0.5574 - loss: 0.1990 - val_accuracy: 0.5833 - val_loss: 0.1769\n",
      "Epoch 13/100\n",
      "\u001b[1m237/237\u001b[0m \u001b[32m━━━━━━━━━━━━━━━━━━━━\u001b[0m\u001b[37m\u001b[0m \u001b[1m2s\u001b[0m 7ms/step - accuracy: 0.5639 - loss: 0.1946 - val_accuracy: 0.8333 - val_loss: 0.1731\n",
      "Epoch 14/100\n",
      "\u001b[1m237/237\u001b[0m \u001b[32m━━━━━━━━━━━━━━━━━━━━\u001b[0m\u001b[37m\u001b[0m \u001b[1m2s\u001b[0m 7ms/step - accuracy: 0.5769 - loss: 0.1910 - val_accuracy: 0.5833 - val_loss: 0.1667\n",
      "Epoch 15/100\n",
      "\u001b[1m237/237\u001b[0m \u001b[32m━━━━━━━━━━━━━━━━━━━━\u001b[0m\u001b[37m\u001b[0m \u001b[1m2s\u001b[0m 7ms/step - accuracy: 0.5853 - loss: 0.1851 - val_accuracy: 0.8333 - val_loss: 0.1630\n",
      "Epoch 16/100\n",
      "\u001b[1m237/237\u001b[0m \u001b[32m━━━━━━━━━━━━━━━━━━━━\u001b[0m\u001b[37m\u001b[0m \u001b[1m2s\u001b[0m 7ms/step - accuracy: 0.5973 - loss: 0.1802 - val_accuracy: 0.7500 - val_loss: 0.1606\n",
      "Epoch 17/100\n",
      "\u001b[1m237/237\u001b[0m \u001b[32m━━━━━━━━━━━━━━━━━━━━\u001b[0m\u001b[37m\u001b[0m \u001b[1m2s\u001b[0m 7ms/step - accuracy: 0.5990 - loss: 0.1794 - val_accuracy: 0.7500 - val_loss: 0.1544\n",
      "Epoch 18/100\n",
      "\u001b[1m237/237\u001b[0m \u001b[32m━━━━━━━━━━━━━━━━━━━━\u001b[0m\u001b[37m\u001b[0m \u001b[1m1s\u001b[0m 6ms/step - accuracy: 0.6135 - loss: 0.1732 - val_accuracy: 0.8333 - val_loss: 0.1519\n",
      "Epoch 19/100\n",
      "\u001b[1m237/237\u001b[0m \u001b[32m━━━━━━━━━━━━━━━━━━━━\u001b[0m\u001b[37m\u001b[0m \u001b[1m2s\u001b[0m 7ms/step - accuracy: 0.6197 - loss: 0.1711 - val_accuracy: 0.7500 - val_loss: 0.1480\n",
      "Epoch 20/100\n",
      "\u001b[1m237/237\u001b[0m \u001b[32m━━━━━━━━━━━━━━━━━━━━\u001b[0m\u001b[37m\u001b[0m \u001b[1m2s\u001b[0m 7ms/step - accuracy: 0.6290 - loss: 0.1674 - val_accuracy: 0.7500 - val_loss: 0.1414\n",
      "Epoch 21/100\n",
      "\u001b[1m237/237\u001b[0m \u001b[32m━━━━━━━━━━━━━━━━━━━━\u001b[0m\u001b[37m\u001b[0m \u001b[1m2s\u001b[0m 7ms/step - accuracy: 0.6353 - loss: 0.1647 - val_accuracy: 0.7500 - val_loss: 0.1413\n",
      "Epoch 22/100\n",
      "\u001b[1m237/237\u001b[0m \u001b[32m━━━━━━━━━━━━━━━━━━━━\u001b[0m\u001b[37m\u001b[0m \u001b[1m2s\u001b[0m 7ms/step - accuracy: 0.6474 - loss: 0.1603 - val_accuracy: 0.7500 - val_loss: 0.1326\n",
      "Epoch 23/100\n",
      "\u001b[1m237/237\u001b[0m \u001b[32m━━━━━━━━━━━━━━━━━━━━\u001b[0m\u001b[37m\u001b[0m \u001b[1m2s\u001b[0m 7ms/step - accuracy: 0.6579 - loss: 0.1555 - val_accuracy: 0.6667 - val_loss: 0.1323\n",
      "Epoch 24/100\n",
      "\u001b[1m237/237\u001b[0m \u001b[32m━━━━━━━━━━━━━━━━━━━━\u001b[0m\u001b[37m\u001b[0m \u001b[1m2s\u001b[0m 7ms/step - accuracy: 0.6628 - loss: 0.1543 - val_accuracy: 0.7500 - val_loss: 0.1245\n",
      "Epoch 25/100\n",
      "\u001b[1m237/237\u001b[0m \u001b[32m━━━━━━━━━━━━━━━━━━━━\u001b[0m\u001b[37m\u001b[0m \u001b[1m2s\u001b[0m 6ms/step - accuracy: 0.6736 - loss: 0.1482 - val_accuracy: 0.8333 - val_loss: 0.1235\n",
      "Epoch 26/100\n",
      "\u001b[1m237/237\u001b[0m \u001b[32m━━━━━━━━━━━━━━━━━━━━\u001b[0m\u001b[37m\u001b[0m \u001b[1m2s\u001b[0m 7ms/step - accuracy: 0.6816 - loss: 0.1471 - val_accuracy: 0.8333 - val_loss: 0.1181\n",
      "Epoch 27/100\n",
      "\u001b[1m237/237\u001b[0m \u001b[32m━━━━━━━━━━━━━━━━━━━━\u001b[0m\u001b[37m\u001b[0m \u001b[1m2s\u001b[0m 7ms/step - accuracy: 0.6916 - loss: 0.1448 - val_accuracy: 0.7500 - val_loss: 0.1130\n",
      "Epoch 28/100\n",
      "\u001b[1m237/237\u001b[0m \u001b[32m━━━━━━━━━━━━━━━━━━━━\u001b[0m\u001b[37m\u001b[0m \u001b[1m2s\u001b[0m 7ms/step - accuracy: 0.6980 - loss: 0.1409 - val_accuracy: 0.7500 - val_loss: 0.1104\n",
      "Epoch 29/100\n",
      "\u001b[1m237/237\u001b[0m \u001b[32m━━━━━━━━━━━━━━━━━━━━\u001b[0m\u001b[37m\u001b[0m \u001b[1m2s\u001b[0m 7ms/step - accuracy: 0.7099 - loss: 0.1348 - val_accuracy: 0.7500 - val_loss: 0.1060\n",
      "Epoch 30/100\n",
      "\u001b[1m237/237\u001b[0m \u001b[32m━━━━━━━━━━━━━━━━━━━━\u001b[0m\u001b[37m\u001b[0m \u001b[1m2s\u001b[0m 7ms/step - accuracy: 0.7194 - loss: 0.1303 - val_accuracy: 0.7500 - val_loss: 0.1009\n",
      "Epoch 31/100\n",
      "\u001b[1m237/237\u001b[0m \u001b[32m━━━━━━━━━━━━━━━━━━━━\u001b[0m\u001b[37m\u001b[0m \u001b[1m2s\u001b[0m 7ms/step - accuracy: 0.7257 - loss: 0.1274 - val_accuracy: 0.7500 - val_loss: 0.0982\n",
      "Epoch 32/100\n",
      "\u001b[1m237/237\u001b[0m \u001b[32m━━━━━━━━━━━━━━━━━━━━\u001b[0m\u001b[37m\u001b[0m \u001b[1m2s\u001b[0m 7ms/step - accuracy: 0.7351 - loss: 0.1252 - val_accuracy: 0.8333 - val_loss: 0.0981\n",
      "Epoch 33/100\n",
      "\u001b[1m237/237\u001b[0m \u001b[32m━━━━━━━━━━━━━━━━━━━━\u001b[0m\u001b[37m\u001b[0m \u001b[1m2s\u001b[0m 7ms/step - accuracy: 0.7450 - loss: 0.1228 - val_accuracy: 0.8333 - val_loss: 0.0890\n",
      "Epoch 34/100\n",
      "\u001b[1m237/237\u001b[0m \u001b[32m━━━━━━━━━━━━━━━━━━━━\u001b[0m\u001b[37m\u001b[0m \u001b[1m2s\u001b[0m 7ms/step - accuracy: 0.7527 - loss: 0.1173 - val_accuracy: 0.9167 - val_loss: 0.0859\n",
      "Epoch 35/100\n",
      "\u001b[1m237/237\u001b[0m \u001b[32m━━━━━━━━━━━━━━━━━━━━\u001b[0m\u001b[37m\u001b[0m \u001b[1m2s\u001b[0m 7ms/step - accuracy: 0.7575 - loss: 0.1189 - val_accuracy: 0.9167 - val_loss: 0.0855\n",
      "Epoch 36/100\n",
      "\u001b[1m237/237\u001b[0m \u001b[32m━━━━━━━━━━━━━━━━━━━━\u001b[0m\u001b[37m\u001b[0m \u001b[1m1s\u001b[0m 6ms/step - accuracy: 0.7679 - loss: 0.1133 - val_accuracy: 0.9167 - val_loss: 0.0794\n",
      "Epoch 37/100\n",
      "\u001b[1m237/237\u001b[0m \u001b[32m━━━━━━━━━━━━━━━━━━━━\u001b[0m\u001b[37m\u001b[0m \u001b[1m2s\u001b[0m 7ms/step - accuracy: 0.7758 - loss: 0.1098 - val_accuracy: 1.0000 - val_loss: 0.0765\n",
      "Epoch 38/100\n",
      "\u001b[1m237/237\u001b[0m \u001b[32m━━━━━━━━━━━━━━━━━━━━\u001b[0m\u001b[37m\u001b[0m \u001b[1m2s\u001b[0m 7ms/step - accuracy: 0.7853 - loss: 0.1075 - val_accuracy: 1.0000 - val_loss: 0.0738\n",
      "Epoch 39/100\n",
      "\u001b[1m237/237\u001b[0m \u001b[32m━━━━━━━━━━━━━━━━━━━━\u001b[0m\u001b[37m\u001b[0m \u001b[1m2s\u001b[0m 7ms/step - accuracy: 0.7926 - loss: 0.1033 - val_accuracy: 1.0000 - val_loss: 0.0689\n",
      "Epoch 40/100\n",
      "\u001b[1m237/237\u001b[0m \u001b[32m━━━━━━━━━━━━━━━━━━━━\u001b[0m\u001b[37m\u001b[0m \u001b[1m2s\u001b[0m 7ms/step - accuracy: 0.7986 - loss: 0.1009 - val_accuracy: 0.9167 - val_loss: 0.0652\n",
      "Epoch 41/100\n",
      "\u001b[1m237/237\u001b[0m \u001b[32m━━━━━━━━━━━━━━━━━━━━\u001b[0m\u001b[37m\u001b[0m \u001b[1m2s\u001b[0m 7ms/step - accuracy: 0.8064 - loss: 0.0974 - val_accuracy: 1.0000 - val_loss: 0.0616\n",
      "Epoch 42/100\n",
      "\u001b[1m237/237\u001b[0m \u001b[32m━━━━━━━━━━━━━━━━━━━━\u001b[0m\u001b[37m\u001b[0m \u001b[1m2s\u001b[0m 7ms/step - accuracy: 0.8124 - loss: 0.0955 - val_accuracy: 1.0000 - val_loss: 0.0590\n",
      "Epoch 43/100\n",
      "\u001b[1m237/237\u001b[0m \u001b[32m━━━━━━━━━━━━━━━━━━━━\u001b[0m\u001b[37m\u001b[0m \u001b[1m2s\u001b[0m 7ms/step - accuracy: 0.8167 - loss: 0.0908 - val_accuracy: 1.0000 - val_loss: 0.0564\n",
      "Epoch 44/100\n",
      "\u001b[1m237/237\u001b[0m \u001b[32m━━━━━━━━━━━━━━━━━━━━\u001b[0m\u001b[37m\u001b[0m \u001b[1m2s\u001b[0m 7ms/step - accuracy: 0.8279 - loss: 0.0877 - val_accuracy: 1.0000 - val_loss: 0.0532\n",
      "Epoch 45/100\n",
      "\u001b[1m237/237\u001b[0m \u001b[32m━━━━━━━━━━━━━━━━━━━━\u001b[0m\u001b[37m\u001b[0m \u001b[1m2s\u001b[0m 7ms/step - accuracy: 0.8316 - loss: 0.0860 - val_accuracy: 1.0000 - val_loss: 0.0524\n",
      "Epoch 46/100\n",
      "\u001b[1m237/237\u001b[0m \u001b[32m━━━━━━━━━━━━━━━━━━━━\u001b[0m\u001b[37m\u001b[0m \u001b[1m1s\u001b[0m 6ms/step - accuracy: 0.8356 - loss: 0.0875 - val_accuracy: 1.0000 - val_loss: 0.0469\n",
      "Epoch 47/100\n",
      "\u001b[1m237/237\u001b[0m \u001b[32m━━━━━━━━━━━━━━━━━━━━\u001b[0m\u001b[37m\u001b[0m \u001b[1m2s\u001b[0m 7ms/step - accuracy: 0.8426 - loss: 0.0801 - val_accuracy: 1.0000 - val_loss: 0.0473\n",
      "Epoch 48/100\n",
      "\u001b[1m237/237\u001b[0m \u001b[32m━━━━━━━━━━━━━━━━━━━━\u001b[0m\u001b[37m\u001b[0m \u001b[1m2s\u001b[0m 7ms/step - accuracy: 0.8467 - loss: 0.0789 - val_accuracy: 1.0000 - val_loss: 0.0443\n",
      "Epoch 49/100\n",
      "\u001b[1m237/237\u001b[0m \u001b[32m━━━━━━━━━━━━━━━━━━━━\u001b[0m\u001b[37m\u001b[0m \u001b[1m2s\u001b[0m 7ms/step - accuracy: 0.8536 - loss: 0.0752 - val_accuracy: 1.0000 - val_loss: 0.0400\n",
      "Epoch 50/100\n",
      "\u001b[1m237/237\u001b[0m \u001b[32m━━━━━━━━━━━━━━━━━━━━\u001b[0m\u001b[37m\u001b[0m \u001b[1m2s\u001b[0m 7ms/step - accuracy: 0.8609 - loss: 0.0735 - val_accuracy: 1.0000 - val_loss: 0.0396\n",
      "Epoch 51/100\n",
      "\u001b[1m237/237\u001b[0m \u001b[32m━━━━━━━━━━━━━━━━━━━━\u001b[0m\u001b[37m\u001b[0m \u001b[1m2s\u001b[0m 7ms/step - accuracy: 0.8623 - loss: 0.0713 - val_accuracy: 1.0000 - val_loss: 0.0355\n",
      "Epoch 52/100\n",
      "\u001b[1m237/237\u001b[0m \u001b[32m━━━━━━━━━━━━━━━━━━━━\u001b[0m\u001b[37m\u001b[0m \u001b[1m2s\u001b[0m 7ms/step - accuracy: 0.8694 - loss: 0.0684 - val_accuracy: 1.0000 - val_loss: 0.0329\n",
      "Epoch 53/100\n",
      "\u001b[1m237/237\u001b[0m \u001b[32m━━━━━━━━━━━━━━━━━━━━\u001b[0m\u001b[37m\u001b[0m \u001b[1m2s\u001b[0m 7ms/step - accuracy: 0.8744 - loss: 0.0676 - val_accuracy: 1.0000 - val_loss: 0.0315\n",
      "Epoch 54/100\n",
      "\u001b[1m237/237\u001b[0m \u001b[32m━━━━━━━━━━━━━━━━━━━━\u001b[0m\u001b[37m\u001b[0m \u001b[1m2s\u001b[0m 6ms/step - accuracy: 0.8796 - loss: 0.0622 - val_accuracy: 1.0000 - val_loss: 0.0295\n",
      "Epoch 55/100\n",
      "\u001b[1m237/237\u001b[0m \u001b[32m━━━━━━━━━━━━━━━━━━━━\u001b[0m\u001b[37m\u001b[0m \u001b[1m2s\u001b[0m 7ms/step - accuracy: 0.8797 - loss: 0.0632 - val_accuracy: 1.0000 - val_loss: 0.0262\n",
      "Epoch 56/100\n",
      "\u001b[1m237/237\u001b[0m \u001b[32m━━━━━━━━━━━━━━━━━━━━\u001b[0m\u001b[37m\u001b[0m \u001b[1m2s\u001b[0m 7ms/step - accuracy: 0.8875 - loss: 0.0612 - val_accuracy: 1.0000 - val_loss: 0.0272\n",
      "Epoch 57/100\n",
      "\u001b[1m237/237\u001b[0m \u001b[32m━━━━━━━━━━━━━━━━━━━━\u001b[0m\u001b[37m\u001b[0m \u001b[1m2s\u001b[0m 7ms/step - accuracy: 0.8903 - loss: 0.0579 - val_accuracy: 1.0000 - val_loss: 0.0236\n",
      "Epoch 58/100\n",
      "\u001b[1m237/237\u001b[0m \u001b[32m━━━━━━━━━━━━━━━━━━━━\u001b[0m\u001b[37m\u001b[0m \u001b[1m2s\u001b[0m 7ms/step - accuracy: 0.8954 - loss: 0.0587 - val_accuracy: 1.0000 - val_loss: 0.0220\n",
      "Epoch 59/100\n",
      "\u001b[1m237/237\u001b[0m \u001b[32m━━━━━━━━━━━━━━━━━━━━\u001b[0m\u001b[37m\u001b[0m \u001b[1m2s\u001b[0m 7ms/step - accuracy: 0.8999 - loss: 0.0556 - val_accuracy: 1.0000 - val_loss: 0.0205\n",
      "Epoch 60/100\n",
      "\u001b[1m237/237\u001b[0m \u001b[32m━━━━━━━━━━━━━━━━━━━━\u001b[0m\u001b[37m\u001b[0m \u001b[1m2s\u001b[0m 7ms/step - accuracy: 0.9003 - loss: 0.0531 - val_accuracy: 1.0000 - val_loss: 0.0192\n",
      "Epoch 61/100\n",
      "\u001b[1m237/237\u001b[0m \u001b[32m━━━━━━━━━━━━━━━━━━━━\u001b[0m\u001b[37m\u001b[0m \u001b[1m2s\u001b[0m 7ms/step - accuracy: 0.9056 - loss: 0.0521 - val_accuracy: 1.0000 - val_loss: 0.0191\n",
      "Epoch 62/100\n",
      "\u001b[1m237/237\u001b[0m \u001b[32m━━━━━━━━━━━━━━━━━━━━\u001b[0m\u001b[37m\u001b[0m \u001b[1m2s\u001b[0m 7ms/step - accuracy: 0.9065 - loss: 0.0510 - val_accuracy: 1.0000 - val_loss: 0.0197\n",
      "Epoch 63/100\n",
      "\u001b[1m237/237\u001b[0m \u001b[32m━━━━━━━━━━━━━━━━━━━━\u001b[0m\u001b[37m\u001b[0m \u001b[1m2s\u001b[0m 7ms/step - accuracy: 0.9111 - loss: 0.0491 - val_accuracy: 1.0000 - val_loss: 0.0159\n",
      "Epoch 64/100\n",
      "\u001b[1m237/237\u001b[0m \u001b[32m━━━━━━━━━━━━━━━━━━━━\u001b[0m\u001b[37m\u001b[0m \u001b[1m2s\u001b[0m 7ms/step - accuracy: 0.9099 - loss: 0.0491 - val_accuracy: 1.0000 - val_loss: 0.0154\n",
      "Epoch 65/100\n",
      "\u001b[1m237/237\u001b[0m \u001b[32m━━━━━━━━━━━━━━━━━━━━\u001b[0m\u001b[37m\u001b[0m \u001b[1m2s\u001b[0m 7ms/step - accuracy: 0.9146 - loss: 0.0469 - val_accuracy: 1.0000 - val_loss: 0.0143\n",
      "Epoch 66/100\n",
      "\u001b[1m237/237\u001b[0m \u001b[32m━━━━━━━━━━━━━━━━━━━━\u001b[0m\u001b[37m\u001b[0m \u001b[1m1s\u001b[0m 6ms/step - accuracy: 0.9175 - loss: 0.0465 - val_accuracy: 1.0000 - val_loss: 0.0137\n",
      "Epoch 67/100\n",
      "\u001b[1m237/237\u001b[0m \u001b[32m━━━━━━━━━━━━━━━━━━━━\u001b[0m\u001b[37m\u001b[0m \u001b[1m2s\u001b[0m 7ms/step - accuracy: 0.9204 - loss: 0.0441 - val_accuracy: 1.0000 - val_loss: 0.0132\n",
      "Epoch 68/100\n",
      "\u001b[1m237/237\u001b[0m \u001b[32m━━━━━━━━━━━━━━━━━━━━\u001b[0m\u001b[37m\u001b[0m \u001b[1m2s\u001b[0m 7ms/step - accuracy: 0.9205 - loss: 0.0440 - val_accuracy: 1.0000 - val_loss: 0.0124\n",
      "Epoch 69/100\n",
      "\u001b[1m237/237\u001b[0m \u001b[32m━━━━━━━━━━━━━━━━━━━━\u001b[0m\u001b[37m\u001b[0m \u001b[1m2s\u001b[0m 7ms/step - accuracy: 0.9277 - loss: 0.0402 - val_accuracy: 1.0000 - val_loss: 0.0118\n",
      "Epoch 70/100\n",
      "\u001b[1m237/237\u001b[0m \u001b[32m━━━━━━━━━━━━━━━━━━━━\u001b[0m\u001b[37m\u001b[0m \u001b[1m2s\u001b[0m 7ms/step - accuracy: 0.9249 - loss: 0.0399 - val_accuracy: 1.0000 - val_loss: 0.0118\n",
      "Epoch 71/100\n",
      "\u001b[1m237/237\u001b[0m \u001b[32m━━━━━━━━━━━━━━━━━━━━\u001b[0m\u001b[37m\u001b[0m \u001b[1m2s\u001b[0m 7ms/step - accuracy: 0.9269 - loss: 0.0403 - val_accuracy: 1.0000 - val_loss: 0.0104\n",
      "Epoch 72/100\n",
      "\u001b[1m237/237\u001b[0m \u001b[32m━━━━━━━━━━━━━━━━━━━━\u001b[0m\u001b[37m\u001b[0m \u001b[1m1s\u001b[0m 6ms/step - accuracy: 0.9294 - loss: 0.0384 - val_accuracy: 1.0000 - val_loss: 0.0103\n",
      "Epoch 73/100\n",
      "\u001b[1m237/237\u001b[0m \u001b[32m━━━━━━━━━━━━━━━━━━━━\u001b[0m\u001b[37m\u001b[0m \u001b[1m2s\u001b[0m 7ms/step - accuracy: 0.9322 - loss: 0.0381 - val_accuracy: 1.0000 - val_loss: 0.0094\n",
      "Epoch 74/100\n",
      "\u001b[1m237/237\u001b[0m \u001b[32m━━━━━━━━━━━━━━━━━━━━\u001b[0m\u001b[37m\u001b[0m \u001b[1m1s\u001b[0m 6ms/step - accuracy: 0.9347 - loss: 0.0378 - val_accuracy: 1.0000 - val_loss: 0.0101\n",
      "Epoch 75/100\n",
      "\u001b[1m237/237\u001b[0m \u001b[32m━━━━━━━━━━━━━━━━━━━━\u001b[0m\u001b[37m\u001b[0m \u001b[1m1s\u001b[0m 6ms/step - accuracy: 0.9356 - loss: 0.0370 - val_accuracy: 1.0000 - val_loss: 0.0086\n",
      "Epoch 76/100\n",
      "\u001b[1m237/237\u001b[0m \u001b[32m━━━━━━━━━━━━━━━━━━━━\u001b[0m\u001b[37m\u001b[0m \u001b[1m2s\u001b[0m 7ms/step - accuracy: 0.9374 - loss: 0.0362 - val_accuracy: 1.0000 - val_loss: 0.0087\n",
      "Epoch 77/100\n",
      "\u001b[1m237/237\u001b[0m \u001b[32m━━━━━━━━━━━━━━━━━━━━\u001b[0m\u001b[37m\u001b[0m \u001b[1m2s\u001b[0m 7ms/step - accuracy: 0.9369 - loss: 0.0352 - val_accuracy: 1.0000 - val_loss: 0.0075\n",
      "Epoch 78/100\n",
      "\u001b[1m237/237\u001b[0m \u001b[32m━━━━━━━━━━━━━━━━━━━━\u001b[0m\u001b[37m\u001b[0m \u001b[1m2s\u001b[0m 7ms/step - accuracy: 0.9377 - loss: 0.0350 - val_accuracy: 1.0000 - val_loss: 0.0073\n",
      "Epoch 79/100\n",
      "\u001b[1m237/237\u001b[0m \u001b[32m━━━━━━━━━━━━━━━━━━━━\u001b[0m\u001b[37m\u001b[0m \u001b[1m2s\u001b[0m 7ms/step - accuracy: 0.9416 - loss: 0.0337 - val_accuracy: 1.0000 - val_loss: 0.0069\n",
      "Epoch 80/100\n",
      "\u001b[1m237/237\u001b[0m \u001b[32m━━━━━━━━━━━━━━━━━━━━\u001b[0m\u001b[37m\u001b[0m \u001b[1m2s\u001b[0m 7ms/step - accuracy: 0.9431 - loss: 0.0323 - val_accuracy: 1.0000 - val_loss: 0.0067\n",
      "Epoch 81/100\n",
      "\u001b[1m237/237\u001b[0m \u001b[32m━━━━━━━━━━━━━━━━━━━━\u001b[0m\u001b[37m\u001b[0m \u001b[1m2s\u001b[0m 7ms/step - accuracy: 0.9433 - loss: 0.0312 - val_accuracy: 1.0000 - val_loss: 0.0071\n",
      "Epoch 82/100\n",
      "\u001b[1m237/237\u001b[0m \u001b[32m━━━━━━━━━━━━━━━━━━━━\u001b[0m\u001b[37m\u001b[0m \u001b[1m2s\u001b[0m 7ms/step - accuracy: 0.9448 - loss: 0.0311 - val_accuracy: 1.0000 - val_loss: 0.0062\n",
      "Epoch 83/100\n",
      "\u001b[1m237/237\u001b[0m \u001b[32m━━━━━━━━━━━━━━━━━━━━\u001b[0m\u001b[37m\u001b[0m \u001b[1m2s\u001b[0m 7ms/step - accuracy: 0.9446 - loss: 0.0305 - val_accuracy: 1.0000 - val_loss: 0.0060\n",
      "Epoch 84/100\n",
      "\u001b[1m237/237\u001b[0m \u001b[32m━━━━━━━━━━━━━━━━━━━━\u001b[0m\u001b[37m\u001b[0m \u001b[1m2s\u001b[0m 7ms/step - accuracy: 0.9466 - loss: 0.0286 - val_accuracy: 1.0000 - val_loss: 0.0054\n",
      "Epoch 85/100\n",
      "\u001b[1m237/237\u001b[0m \u001b[32m━━━━━━━━━━━━━━━━━━━━\u001b[0m\u001b[37m\u001b[0m \u001b[1m2s\u001b[0m 7ms/step - accuracy: 0.9493 - loss: 0.0283 - val_accuracy: 1.0000 - val_loss: 0.0057\n",
      "Epoch 86/100\n",
      "\u001b[1m237/237\u001b[0m \u001b[32m━━━━━━━━━━━━━━━━━━━━\u001b[0m\u001b[37m\u001b[0m \u001b[1m2s\u001b[0m 6ms/step - accuracy: 0.9479 - loss: 0.0294 - val_accuracy: 1.0000 - val_loss: 0.0052\n",
      "Epoch 87/100\n",
      "\u001b[1m237/237\u001b[0m \u001b[32m━━━━━━━━━━━━━━━━━━━━\u001b[0m\u001b[37m\u001b[0m \u001b[1m2s\u001b[0m 6ms/step - accuracy: 0.9496 - loss: 0.0291 - val_accuracy: 1.0000 - val_loss: 0.0047\n",
      "Epoch 88/100\n",
      "\u001b[1m237/237\u001b[0m \u001b[32m━━━━━━━━━━━━━━━━━━━━\u001b[0m\u001b[37m\u001b[0m \u001b[1m2s\u001b[0m 7ms/step - accuracy: 0.9517 - loss: 0.0275 - val_accuracy: 1.0000 - val_loss: 0.0048\n",
      "Epoch 89/100\n",
      "\u001b[1m237/237\u001b[0m \u001b[32m━━━━━━━━━━━━━━━━━━━━\u001b[0m\u001b[37m\u001b[0m \u001b[1m2s\u001b[0m 7ms/step - accuracy: 0.9534 - loss: 0.0269 - val_accuracy: 1.0000 - val_loss: 0.0046\n",
      "Epoch 90/100\n",
      "\u001b[1m237/237\u001b[0m \u001b[32m━━━━━━━━━━━━━━━━━━━━\u001b[0m\u001b[37m\u001b[0m \u001b[1m1s\u001b[0m 6ms/step - accuracy: 0.9554 - loss: 0.0243 - val_accuracy: 1.0000 - val_loss: 0.0043\n",
      "Epoch 91/100\n",
      "\u001b[1m237/237\u001b[0m \u001b[32m━━━━━━━━━━━━━━━━━━━━\u001b[0m\u001b[37m\u001b[0m \u001b[1m1s\u001b[0m 6ms/step - accuracy: 0.9539 - loss: 0.0250 - val_accuracy: 1.0000 - val_loss: 0.0043\n",
      "Epoch 92/100\n",
      "\u001b[1m237/237\u001b[0m \u001b[32m━━━━━━━━━━━━━━━━━━━━\u001b[0m\u001b[37m\u001b[0m \u001b[1m2s\u001b[0m 7ms/step - accuracy: 0.9564 - loss: 0.0249 - val_accuracy: 1.0000 - val_loss: 0.0040\n",
      "Epoch 93/100\n",
      "\u001b[1m237/237\u001b[0m \u001b[32m━━━━━━━━━━━━━━━━━━━━\u001b[0m\u001b[37m\u001b[0m \u001b[1m2s\u001b[0m 7ms/step - accuracy: 0.9522 - loss: 0.0257 - val_accuracy: 1.0000 - val_loss: 0.0043\n",
      "Epoch 94/100\n",
      "\u001b[1m237/237\u001b[0m \u001b[32m━━━━━━━━━━━━━━━━━━━━\u001b[0m\u001b[37m\u001b[0m \u001b[1m1s\u001b[0m 6ms/step - accuracy: 0.9583 - loss: 0.0225 - val_accuracy: 1.0000 - val_loss: 0.0041\n",
      "Epoch 95/100\n",
      "\u001b[1m237/237\u001b[0m \u001b[32m━━━━━━━━━━━━━━━━━━━━\u001b[0m\u001b[37m\u001b[0m \u001b[1m2s\u001b[0m 7ms/step - accuracy: 0.9566 - loss: 0.0251 - val_accuracy: 1.0000 - val_loss: 0.0038\n",
      "Epoch 96/100\n",
      "\u001b[1m237/237\u001b[0m \u001b[32m━━━━━━━━━━━━━━━━━━━━\u001b[0m\u001b[37m\u001b[0m \u001b[1m2s\u001b[0m 7ms/step - accuracy: 0.9551 - loss: 0.0259 - val_accuracy: 1.0000 - val_loss: 0.0036\n",
      "Epoch 97/100\n",
      "\u001b[1m237/237\u001b[0m \u001b[32m━━━━━━━━━━━━━━━━━━━━\u001b[0m\u001b[37m\u001b[0m \u001b[1m2s\u001b[0m 6ms/step - accuracy: 0.9586 - loss: 0.0237 - val_accuracy: 1.0000 - val_loss: 0.0033\n",
      "Epoch 98/100\n",
      "\u001b[1m237/237\u001b[0m \u001b[32m━━━━━━━━━━━━━━━━━━━━\u001b[0m\u001b[37m\u001b[0m \u001b[1m2s\u001b[0m 7ms/step - accuracy: 0.9577 - loss: 0.0243 - val_accuracy: 1.0000 - val_loss: 0.0034\n",
      "Epoch 99/100\n",
      "\u001b[1m237/237\u001b[0m \u001b[32m━━━━━━━━━━━━━━━━━━━━\u001b[0m\u001b[37m\u001b[0m \u001b[1m2s\u001b[0m 7ms/step - accuracy: 0.9578 - loss: 0.0233 - val_accuracy: 1.0000 - val_loss: 0.0041\n",
      "Epoch 100/100\n",
      "\u001b[1m237/237\u001b[0m \u001b[32m━━━━━━━━━━━━━━━━━━━━\u001b[0m\u001b[37m\u001b[0m \u001b[1m2s\u001b[0m 7ms/step - accuracy: 0.9613 - loss: 0.0248 - val_accuracy: 1.0000 - val_loss: 0.0031\n",
      "167.55257160007022\n"
     ]
    }
   ],
   "source": [
    "start = perf_counter()\n",
    "\n",
    "history = model.fit(\n",
    "    x_train,\n",
    "    y_train,\n",
    "    epochs=100,\n",
    "    validation_data=(x_val, y_val),\n",
    "    batch_size=80,\n",
    ")\n",
    "\n",
    "print(perf_counter() - start)"
   ]
  },
  {
   "cell_type": "code",
   "execution_count": 11,
   "id": "4b746f0f-655e-40b8-bf44-276f5202b7ae",
   "metadata": {},
   "outputs": [
    {
     "name": "stdout",
     "output_type": "stream",
     "text": [
      "\u001b[1m148/148\u001b[0m \u001b[32m━━━━━━━━━━━━━━━━━━━━\u001b[0m\u001b[37m\u001b[0m \u001b[1m0s\u001b[0m 2ms/step\n"
     ]
    },
    {
     "data": {
      "text/plain": [
       "(0.8365173288250212, 0.9991546914623838)"
      ]
     },
     "execution_count": 11,
     "metadata": {},
     "output_type": "execute_result"
    }
   ],
   "source": [
    "y_pred = model.predict(x_val)\n",
    "\n",
    "(~y_val).mean(), ((y_pred > .5) == y_val).mean()"
   ]
  },
  {
   "cell_type": "code",
   "execution_count": 12,
   "id": "0469e17e-c812-4388-8bf0-05e2448c0d3e",
   "metadata": {},
   "outputs": [
    {
     "data": {
      "text/plain": [
       "Text(0.5, 1.0, 'NN Loss over Training')"
      ]
     },
     "execution_count": 12,
     "metadata": {},
     "output_type": "execute_result"
    },
    {
     "data": {
      "image/png": "[encoded data removed]",
      "text/plain": [
       "<Figure size 640x480 with 1 Axes>"
      ]
     },
     "metadata": {},
     "output_type": "display_data"
    }
   ],
   "source": [
    "fig = plt.figure()\n",
    "ax = plt.gca()\n",
    "\n",
    "ax.plot(history.history['loss'], label='Training')\n",
    "ax.plot(\n",
    "    np.convolve(np.array(history.history['val_loss']), np.ones(5)/5, mode='valid'),\n",
    "    label='Validation (Running Mean)'\n",
    ")\n",
    "ax.legend()\n",
    "ax.set_xlabel('# Epochs')\n",
    "ax.set_ylabel('Loss')\n",
    "ax.set_ylim((0, 1))\n",
    "ax.set_title('NN Loss over Training')"
   ]
  },
  {
   "cell_type": "markdown",
   "id": "3b89ace9-8c98-4953-91eb-acc9b86fea2f",
   "metadata": {},
   "source": [
    "## Interpretation"
   ]
  },
  {
   "cell_type": "markdown",
   "id": "d44d6a47-2404-48a9-8b45-71f815caaf6f",
   "metadata": {},
   "source": [
    "### Layer-Wise Relevance Propagation"
   ]
  },
  {
   "cell_type": "code",
   "execution_count": 13,
   "id": "4e57dab5-a7ea-4b4c-9c2e-6face810fd1a",
   "metadata": {},
   "outputs": [],
   "source": [
    "n_samples = x.shape[0]"
   ]
  },
  {
   "cell_type": "code",
   "execution_count": 14,
   "id": "52c174af-903b-4db0-854c-f48d2eaab2fa",
   "metadata": {},
   "outputs": [],
   "source": [
    "# i_s = np.random.choice(x_pca.shape[0], n_samples, replace=False)\n",
    "# temp_x = x_pca[i_s]\n",
    "\n",
    "temp_x = np.copy(x)\n",
    "activations = [temp_x]\n",
    "for layer in model.layers:\n",
    "    temp_x = layer(temp_x)\n",
    "    activations.append(temp_x.numpy())"
   ]
  },
  {
   "cell_type": "code",
   "execution_count": 15,
   "id": "d704b0e0-2b45-46ca-becc-e0a9304f94ec",
   "metadata": {},
   "outputs": [],
   "source": [
    "try:\n",
    "    x = x.numpy()\n",
    "except:\n",
    "    pass"
   ]
  },
  {
   "cell_type": "code",
   "execution_count": 16,
   "id": "9ebb5346-4cb9-4354-83e2-2fcd0d2bcec5",
   "metadata": {},
   "outputs": [
    {
     "name": "stdout",
     "output_type": "stream",
     "text": [
      "13: 0.41361330007202923s\n",
      "12: 22.071010400075465s\n",
      "11: 13.461758400080726s\n",
      "10: 21.623760499991477s\n",
      "9: 13.484450600109994s\n",
      "8: 21.82645169994794s\n",
      "7: 13.492802300024778s\n",
      "6: 21.708442199975252s\n",
      "5: 13.456138200126588s\n",
      "4: 21.791195099940524s\n",
      "3: 13.45753480005078s\n",
      "2: 21.75417700014077s\n",
      "1: 2.7542139000725s\n"
     ]
    }
   ],
   "source": [
    "alpha = 1\n",
    "beta = 0\n",
    "epsilon = 1e-5\n",
    "\n",
    "prev_relevance = activations[-1]\n",
    "\n",
    "for i in range(len(activations)-1,0,-1):\n",
    "    start_time = perf_counter()\n",
    "    \n",
    "    weights = np.ones((activations[i-1].shape[1], activations[i].shape[1]))\n",
    "    \n",
    "    if model.layers[i-1].weights:\n",
    "        weights = model.layers[i-1].weights[0].numpy()\n",
    "\n",
    "    weights_p = weights * (weights > 0)\n",
    "    weights_n = weights * (weights < 0)\n",
    "\n",
    "    pre_activations_p = activations[i-1] @ weights_p\n",
    "    pre_activations_n = activations[i-1] @ weights_n\n",
    "\n",
    "    r = np.zeros(activations[i-1].shape)\n",
    "\n",
    "    for j in range(activations[i-1].shape[1]):        \n",
    "        r_a = activations[i-1][:,j,np.newaxis] * np.repeat(weights_p[j,np.newaxis],activations[i-1].shape[0],axis=0) / (pre_activations_p + epsilon)\n",
    "\n",
    "        if beta == 0:\n",
    "            r[:,j] = ((alpha * r_a) * prev_relevance).sum(axis=1)\n",
    "            continue\n",
    "\n",
    "        r_b = activations[i-1][:,j,np.newaxis] * np.repeat(weights_n[j,np.newaxis],activations[i-1].shape[0],axis=0) / (pre_activations_n + epsilon)\n",
    "        r[:,j] = ((alpha * r_a - beta * r_b) * prev_relevance).sum(axis=1)\n",
    "\n",
    "    prev_relevance = r\n",
    "\n",
    "    print(f'{i}: {perf_counter() - start_time}s')"
   ]
  },
  {
   "cell_type": "code",
   "execution_count": 17,
   "id": "eca95f9d-fe3b-449a-b557-699338c8bbd3",
   "metadata": {},
   "outputs": [],
   "source": [
    "del activations"
   ]
  },
  {
   "cell_type": "code",
   "execution_count": 18,
   "id": "71957c83-6665-41a3-b090-95873bbb8ec6",
   "metadata": {},
   "outputs": [],
   "source": [
    "# input_relevances = prev_relevance / prev_relevance.max()\n",
    "input_relevances = prev_relevance"
   ]
  },
  {
   "cell_type": "markdown",
   "id": "e69b22c1-4a54-4565-aef2-343fe5677469",
   "metadata": {},
   "source": [
    "#### Graphing"
   ]
  },
  {
   "cell_type": "code",
   "execution_count": 19,
   "id": "24324b37-0eb4-4d12-b03b-20f1ef7090fb",
   "metadata": {},
   "outputs": [],
   "source": [
    "# n_stressed_samples = 6\n",
    "# assert n_stressed_samples < n_samples\n",
    "\n",
    "# i_stressed = np.random.choice(np.arange(i_s.shape[0])[y[i_s].any(axis=1)], n_stressed_samples, replace=False)\n",
    "# i_s_stressed = i_s[i_stressed]"
   ]
  },
  {
   "cell_type": "code",
   "execution_count": 20,
   "id": "7bc32434-24f1-4060-842e-b5060e2c4ca1",
   "metadata": {},
   "outputs": [],
   "source": [
    "# fig, axs = plt.subplots(3, 2, constrained_layout=True, figsize=(12,9))\n",
    "# axs = list(itertools.chain.from_iterable(axs))\n",
    "# x_h = np.arange(input_relevances.shape[1])\n",
    "\n",
    "# ax_min, ax_max = input_relevances[i_stressed].min() * 1.05,input_relevances[i_stressed].max() * 1.05\n",
    "\n",
    "# for i, ax in enumerate(axs):\n",
    "#     ax.bar(x_h, input_relevances[i_stressed[i]])\n",
    "#     ax.set_xticks(x_h, labels=trait_cols, rotation=90)\n",
    "#     ax.set_title(\n",
    "#         f'Sample #{i_s_stressed[i]} {[stresses[j] for j in range(len(stresses)) if y[i_s_stressed[i]][j]]}'\n",
    "#     )\n",
    "#     ax.set_ylabel('Normalized Relevance')\n",
    "#     ax.set_ylim((ax_min, ax_max))\n",
    "\n",
    "# fig.suptitle(f'Layer-wise Relevance Propagation ($\\\\alpha$={alpha}, $\\\\beta$={beta})')"
   ]
  },
  {
   "cell_type": "markdown",
   "id": "81ef8320-fada-4060-9f5f-de847d4b6eec",
   "metadata": {},
   "source": [
    "#### Save to File"
   ]
  },
  {
   "cell_type": "code",
   "execution_count": 21,
   "id": "94ebca4b-5873-4b31-a599-50a4396a2bb1",
   "metadata": {},
   "outputs": [],
   "source": [
    "# lrp_df = pd.DataFrame(input_relevances, index=i_s, columns=trait_cols)\n",
    "# lrp_df[stresses] = df.loc[i_s, stresses]\n",
    "# lrp_df.to_csv(f'lrp_a{alpha}_b{beta}.csv')"
   ]
  },
  {
   "cell_type": "markdown",
   "id": "69817d6b-b6af-4acd-bf98-b67b8a2011a2",
   "metadata": {},
   "source": [
    "## Trait Classification"
   ]
  },
  {
   "cell_type": "markdown",
   "id": "d8a8f35b-6fae-4c8a-b466-5ad1f42637aa",
   "metadata": {},
   "source": [
    "### SIS\n",
    "Simplified version of [this paper](https://proceedings.mlr.press/v89/carter19a/carter19a.pdf). \n",
    "\n",
    "Iteratively replaces different traits with their mean values. The trait that, when replaced, yields the highest accuracy is the least important. The least important trait is then replaced with its mean, and the process is repeated for the remaining traits, until the accuracy is below 80%. The remaining traits are thus the ones necessary for at least an 80% accuracy.  "
   ]
  },
  {
   "cell_type": "code",
   "execution_count": 22,
   "id": "c804f6e7-6706-466d-81d1-e3e762e53a9a",
   "metadata": {},
   "outputs": [
    {
     "name": "stdout",
     "output_type": "stream",
     "text": [
      "Gm: ['Sugars', 'Starch', 'Ellagic', 'Gal', 'Rut', 'CTs']\n",
      "Drought: ['WP', 'N', 'C', 'Neoxanthin', 'Violaxanthin', 'Lutein', 'Zeaxanthin', 'Chl_b', 'Chl_a', 'B_carotene', 'Glucose', 'Fructose', 'Sucrose', 'Sugars', 'Starch', 'Ellagic', 'Gal', 'Rut', 'CTs']\n",
      "Nutrient_Deficiency: ['Gal']\n",
      "Fs: ['LWC', 'Chl_a', 'Sucrose', 'Sugars', 'Starch', 'Ellagic', 'Gal', 'Rut', 'CTs']\n",
      "Salinity: ['Violaxanthin', 'Lutein', 'Zeaxanthin', 'Chl_b', 'Chl_a', 'B_carotene', 'Glucose', 'Fructose', 'Sucrose', 'Sugars', 'Starch', 'Ellagic', 'Gal', 'Rut', 'CTs']\n"
     ]
    }
   ],
   "source": [
    "important = {}\n",
    "\n",
    "for stress_i, stress in enumerate(stresses):\n",
    "    target = np.zeros((len(stresses),))\n",
    "    target[stress_i] = 1\n",
    "    \n",
    "    selected = (y == target).all(axis=1)\n",
    "    checked = np.zeros((x.shape[1],)).astype(bool)\n",
    "\n",
    "    mask = np.repeat((1-np.identity(x.shape[1])).reshape((x.shape[1], 1, x.shape[1])), selected.sum(), axis=1)\n",
    "    means = x.mean(axis=0).reshape((1, 1, x.shape[1])).repeat(x.shape[1], axis=0).repeat(selected.sum(), axis=1)\n",
    "    \n",
    "    remove_traits = []\n",
    "    temp_x = np.copy(x[selected])\n",
    "    \n",
    "    for i in range(x.shape[1]):  \n",
    "        masked = np.repeat(temp_x.reshape((1, selected.sum(), x.shape[1])), x.shape[1], axis=0)\n",
    "        \n",
    "        masked = (masked * mask) + (means * (1-mask))\n",
    "        \n",
    "        acc = np.zeros((x.shape[1],))\n",
    "        \n",
    "        for j in range(x.shape[1]):\n",
    "            if checked[j]:\n",
    "                continue\n",
    "            acc[j] = ((model(masked[j]) > .5).numpy() == target).all(axis=1).mean()\n",
    "        \n",
    "        least_important = acc.argmax()\n",
    "    \n",
    "        temp_x = masked[least_important]\n",
    "    \n",
    "        remove_traits.append((least_important, acc[least_important]))\n",
    "        checked[least_important] = True\n",
    "\n",
    "    remove_traits = np.array(remove_traits)\n",
    "    important[stress] = list(trait_cols[remove_traits[:,1]<.8])\n",
    "\n",
    "    print(f'{stress}: {important[stress]}')"
   ]
  },
  {
   "cell_type": "markdown",
   "id": "34d2d500-4882-4ba6-9bd8-584d431e3f5c",
   "metadata": {},
   "source": [
    "#### Noise"
   ]
  },
  {
   "cell_type": "code",
   "execution_count": 23,
   "id": "72e711b6-792f-4bc5-8af0-16f285ff1a3f",
   "metadata": {},
   "outputs": [],
   "source": [
    "# noise_important = {}\n",
    "\n",
    "# for stress_i, stress in enumerate(stresses):\n",
    "#     target = np.zeros((len(stresses),))\n",
    "#     target[stress_i] = 1\n",
    "    \n",
    "#     selected = (y == target).all(axis=1)\n",
    "#     checked = np.zeros((x.shape[1],)).astype(bool)\n",
    "\n",
    "#     mask = np.repeat((1-np.identity(x.shape[1])).reshape((x.shape[1], 1, x.shape[1])), selected.sum(), axis=1)\n",
    "#     # noise = x.mean(axis=0).reshape((1, 1, x.shape[1])).repeat(x.shape[1], axis=0).repeat(selected.sum(), axis=1)\n",
    "#     sigma = 2\n",
    "#     noise = ((x[selected]) + sigma*x.std(axis=0)*(np.random.random_sample((selected.sum(), x.shape[1])) - 1/sigma)).reshape((1, selected.sum(), x.shape[1])).repeat(x.shape[1], axis=0)\n",
    "    \n",
    "#     remove_traits = []\n",
    "#     temp_x = np.copy(x[selected])\n",
    "    \n",
    "#     for i in range(x.shape[1]):  \n",
    "#         masked = np.repeat(temp_x.reshape((1, selected.sum(), x.shape[1])), x.shape[1], axis=0)\n",
    "        \n",
    "#         masked = (masked * mask) + (noise * (1-mask))\n",
    "        \n",
    "#         acc = np.zeros((x.shape[1],))\n",
    "        \n",
    "#         for j in range(x.shape[1]):\n",
    "#             if checked[j]:\n",
    "#                 continue\n",
    "#             acc[j] = ((model(masked[j]) > .5).numpy() == target).all(axis=1).mean()\n",
    "        \n",
    "#         least_important = acc.argmax()\n",
    "    \n",
    "#         temp_x = masked[least_important]\n",
    "    \n",
    "#         remove_traits.append((least_important, acc[least_important]))\n",
    "#         checked[least_important] = True\n",
    "\n",
    "#     remove_traits = np.array(remove_traits)\n",
    "#     noise_important[stress] = list(trait_cols[remove_traits[:,1]<.8])\n",
    "\n",
    "#     print(f'{stress}: {noise_important[stress]}')"
   ]
  },
  {
   "cell_type": "markdown",
   "id": "80936d28-60e3-4e3a-9048-8f527599ee61",
   "metadata": {},
   "source": [
    "### Max"
   ]
  },
  {
   "cell_type": "code",
   "execution_count": 40,
   "id": "2a5dfb9e-02d4-4942-ac13-cd9562258a9f",
   "metadata": {},
   "outputs": [],
   "source": [
    "ir_normal = input_relevances / input_relevances.max()"
   ]
  },
  {
   "cell_type": "code",
   "execution_count": 41,
   "id": "db256ece-dd45-42e5-a10f-04f0976e3665",
   "metadata": {},
   "outputs": [],
   "source": [
    "means = np.empty((len(stresses), trait_cols.shape[0]))\n",
    "for stress_i in range(len(stresses)):\n",
    "    mask = np.zeros((y.shape[1],))\n",
    "    mask[stress_i] = 1\n",
    "    \n",
    "    means[stress_i] = ir_normal[(y==mask).all(axis=1)].mean(axis=0)"
   ]
  },
  {
   "cell_type": "code",
   "execution_count": 80,
   "id": "8fbef9b9-1031-44ef-a878-c558f4346f51",
   "metadata": {},
   "outputs": [
    {
     "name": "stdout",
     "output_type": "stream",
     "text": [
      "Gm: ['Glucose']\n",
      "Drought: ['N', 'Gal', 'Fv_Fo', 'PI']\n",
      "Nutrient_Deficiency: ['Fv_Fo']\n",
      "Fs: ['N', 'Gal', 'PI']\n",
      "Salinity: ['Fv_Fo', 'WUEin', 'Zeaxanthin']\n",
      "Using threshold: 0.17\n"
     ]
    }
   ],
   "source": [
    "thresh = .17\n",
    "\n",
    "for stress_i in range(len(stresses)):\n",
    "    i = (-1*means[stress_i, means[stress_i] > thresh]).argsort()\n",
    "    print(f'{stresses[stress_i]}: {list(trait_cols[means[stress_i] > thresh][i])}')\n",
    "\n",
    "print(f'Using threshold: {thresh}')"
   ]
  },
  {
   "cell_type": "markdown",
   "id": "6eadc438-258b-4581-984d-9639a43fc96e",
   "metadata": {},
   "source": [
    "Sorted"
   ]
  },
  {
   "cell_type": "markdown",
   "id": "5dd7d9a1-8900-44d3-8960-e7237818b238",
   "metadata": {},
   "source": [
    "### Dominance"
   ]
  },
  {
   "cell_type": "code",
   "execution_count": 26,
   "id": "cdf07a85-b6af-4205-bc10-2cf5d0512dcf",
   "metadata": {},
   "outputs": [
    {
     "name": "stdout",
     "output_type": "stream",
     "text": [
      "Gm: 3038, Gm: 3038, both: 3038\n",
      "Gm: 3038, Drought: 406, both: 225\n",
      "Gm: 3038, Nutrient_Deficiency: 2774, both: 0\n",
      "Gm: 3038, Fs: 1826, both: 1714\n",
      "Gm: 3038, Salinity: 2013, both: 0\n",
      "Drought: 406, Gm: 3038, both: 225\n",
      "Drought: 406, Drought: 406, both: 406\n",
      "Drought: 406, Nutrient_Deficiency: 2774, both: 200\n",
      "Drought: 406, Fs: 1826, both: 225\n",
      "Drought: 406, Salinity: 2013, both: 0\n",
      "Nutrient_Deficiency: 2774, Gm: 3038, both: 0\n",
      "Nutrient_Deficiency: 2774, Drought: 406, both: 200\n",
      "Nutrient_Deficiency: 2774, Nutrient_Deficiency: 2774, both: 2774\n",
      "Nutrient_Deficiency: 2774, Fs: 1826, both: 0\n",
      "Nutrient_Deficiency: 2774, Salinity: 2013, both: 1937\n",
      "Fs: 1826, Gm: 3038, both: 1714\n",
      "Fs: 1826, Drought: 406, both: 225\n",
      "Fs: 1826, Nutrient_Deficiency: 2774, both: 0\n",
      "Fs: 1826, Fs: 1826, both: 1826\n",
      "Fs: 1826, Salinity: 2013, both: 0\n",
      "Salinity: 2013, Gm: 3038, both: 0\n",
      "Salinity: 2013, Drought: 406, both: 0\n",
      "Salinity: 2013, Nutrient_Deficiency: 2774, both: 1937\n",
      "Salinity: 2013, Fs: 1826, both: 0\n",
      "Salinity: 2013, Salinity: 2013, both: 2013\n"
     ]
    },
    {
     "name": "stderr",
     "output_type": "stream",
     "text": [
      "C:\\Users\\amitt\\AppData\\Local\\Temp\\ipykernel_20700\\1216449937.py:16: RuntimeWarning: Mean of empty slice.\n",
      "  mean_both = x[(y==mask_both).all(axis=1)].mean(axis=0)\n",
      "C:\\Users\\amitt\\.virtualenvs\\stress_detection-fEHOVlkj\\Lib\\site-packages\\numpy\\core\\_methods.py:121: RuntimeWarning: invalid value encountered in divide\n",
      "  ret = um.true_divide(\n"
     ]
    }
   ],
   "source": [
    "dists = np.empty((len(stresses), len(stresses)))\n",
    "\n",
    "for s1 in range(len(stresses)):\n",
    "    mask1 = np.zeros((len(stresses),))\n",
    "    mask1[s1] = 1\n",
    "\n",
    "    mean1 = x[(y==mask1).all(axis=1)].mean(axis=0)\n",
    "    \n",
    "    for s2 in range(len(stresses)):\n",
    "        mask2 = np.zeros((len(stresses),))\n",
    "        mask2[s2] = 1\n",
    "\n",
    "        mean2 = x[(y==mask2).all(axis=1)].mean(axis=0)\n",
    "\n",
    "        mask_both = np.logical_or(mask1, mask2)\n",
    "        mean_both = x[(y==mask_both).all(axis=1)].mean(axis=0)\n",
    "\n",
    "        d1 = np.linalg.norm(mean_both - mean1)\n",
    "        d2 = np.linalg.norm(mean_both - mean2)\n",
    "\n",
    "        if d1 + d2 == 0:\n",
    "            dists[s1,s2] = 0\n",
    "        else:\n",
    "            dists[s1,s2] = (d2 - d1)/(d1 + d2)\n",
    "\n",
    "        print(f'{stresses[s1]}: {(y==mask1).all(axis=1).sum()}, {stresses[s2]}: {(y==mask2).all(axis=1).sum()}, both: {(y==mask_both).all(axis=1).sum()}')"
   ]
  },
  {
   "cell_type": "code",
   "execution_count": 27,
   "id": "8889b3aa-b0da-482a-879a-2127bb74fbbf",
   "metadata": {},
   "outputs": [
    {
     "data": {
      "text/plain": [
       "<matplotlib.colorbar.Colorbar at 0x29249fde720>"
      ]
     },
     "execution_count": 27,
     "metadata": {},
     "output_type": "execute_result"
    },
    {
     "data": {
      "image/png": "[encoded data removed]",
      "text/plain": [
       "<Figure size 480x480 with 2 Axes>"
      ]
     },
     "metadata": {},
     "output_type": "display_data"
    }
   ],
   "source": [
    "plt.matshow(dists, cmap='coolwarm')\n",
    "plt.xticks(np.arange(len(stresses)), stresses, rotation=90)\n",
    "plt.yticks(np.arange(len(stresses)), stresses)\n",
    "plt.colorbar()"
   ]
  },
  {
   "cell_type": "markdown",
   "id": "44b25bcd-e28f-488f-9e3f-178f80fee9e9",
   "metadata": {},
   "source": [
    "Positive value means closer to the variable on the vertical axis, or vertical axis variable is dominant over the horizontal axis variable."
   ]
  },
  {
   "cell_type": "markdown",
   "id": "4c0f91ff-be65-45d8-9f60-e219a3f6c748",
   "metadata": {},
   "source": [
    "### Point-Biserial Correlation"
   ]
  },
  {
   "cell_type": "code",
   "execution_count": 28,
   "id": "48866c4a-b2d1-45b1-967e-7f5eecc0b4ac",
   "metadata": {},
   "outputs": [],
   "source": [
    "corrs = np.empty((len(stresses), len(trait_cols)))\n",
    "\n",
    "for s_i in range(len(stresses)):\n",
    "    mask = np.zeros((len(stresses),))\n",
    "    mask[s_i] = 1\n",
    "    mask_v = (y==mask).all(axis=1)\n",
    "\n",
    "    mask_n = np.zeros((len(stresses),))\n",
    "    mask_n_v = (y==mask_n).all(axis=1)\n",
    "\n",
    "    c = (x[mask_v].mean(axis=0) - x[mask_n_v].mean(axis=0)) / x[mask_v | mask_n_v].std(axis=0)\n",
    "    corrs[s_i] = c * np.sqrt(mask_v.sum() * mask_n_v.sum()) / (mask_v | mask_n_v).sum() "
   ]
  },
  {
   "cell_type": "code",
   "execution_count": 86,
   "id": "9ddbefcc-7155-4ec7-aadf-1539bf66cc91",
   "metadata": {},
   "outputs": [
    {
     "data": {
      "text/plain": [
       "0.6830284271884219"
      ]
     },
     "execution_count": 86,
     "metadata": {},
     "output_type": "execute_result"
    }
   ],
   "source": [
    "norm.cdf(np.abs(corrs)).max()"
   ]
  },
  {
   "cell_type": "code",
   "execution_count": null,
   "id": "51b94fa6-8c02-44d6-9770-6989d3b68192",
   "metadata": {},
   "outputs": [],
   "source": []
  }
 ],
 "metadata": {
  "kernelspec": {
   "display_name": "Python 3 (ipykernel)",
   "language": "python",
   "name": "python3"
  },
  "language_info": {
   "codemirror_mode": {
    "name": "ipython",
    "version": 3
   },
   "file_extension": ".py",
   "mimetype": "text/x-python",
   "name": "python",
   "nbconvert_exporter": "python",
   "pygments_lexer": "ipython3",
   "version": "3.12.3"
  }
 },
 "nbformat": 4,
 "nbformat_minor": 5
}
