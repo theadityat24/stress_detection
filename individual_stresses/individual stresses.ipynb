{
 "cells": [
  {
   "cell_type": "code",
   "execution_count": 58,
   "id": "c8cb5ce0-f5b7-49f2-860c-77800a1c158e",
   "metadata": {},
   "outputs": [],
   "source": [
    "import numpy as np\n",
    "import pandas as pd\n",
    "import matplotlib.pyplot as plt\n",
    "\n",
    "from sklearn.model_selection import train_test_split\n",
    "\n",
    "import tensorflow as tf\n",
    "\n",
    "from keras.models import Sequential, Model\n",
    "from keras.layers import Conv1D, MaxPooling1D, Dense, Flatten, Input, AveragePooling1D, Dropout, Softmax\n",
    "from keras.optimizers import Adam, Nadam\n",
    "from keras.regularizers import L2\n",
    "from keras.callbacks import ReduceLROnPlateau, LearningRateScheduler, Callback, LambdaCallback\n",
    "from keras.metrics import Metric\n",
    "from tensorflow import keras\n",
    "\n",
    "from time import perf_counter\n",
    "import functools"
   ]
  },
  {
   "cell_type": "code",
   "execution_count": 2,
   "id": "4719d771-9fca-4e41-be72-bbea116b0c21",
   "metadata": {},
   "outputs": [],
   "source": [
    "stresses = ['Gm', 'Drought', 'Nutrient_Deficiency', 'Fs', 'Salinity']"
   ]
  },
  {
   "cell_type": "code",
   "execution_count": 3,
   "id": "637f054d-6243-4486-9e3c-05af014aa535",
   "metadata": {},
   "outputs": [
    {
     "name": "stderr",
     "output_type": "stream",
     "text": [
      "C:\\Users\\amitt\\AppData\\Local\\Temp\\ipykernel_5344\\1297277926.py:2: DtypeWarning: Columns (4) have mixed types. Specify dtype option on import or set low_memory=False.\n",
      "  df = pd.read_csv(csv_path)\n"
     ]
    }
   ],
   "source": [
    "csv_path = r'..\\combined.csv'\n",
    "df = pd.read_csv(csv_path)\n",
    "df.drop(columns=['Unnamed: 0'], inplace=True, errors='ignore')\n",
    "df.drop(columns=['Fungal_infection'], inplace=True, errors='ignore')\n",
    "df[stresses] = df[stresses].astype(bool)"
   ]
  },
  {
   "cell_type": "code",
   "execution_count": 4,
   "id": "057ff01b-88c7-4b81-8760-b17477496043",
   "metadata": {},
   "outputs": [],
   "source": [
    "spec_cols = [col for col in df.columns if col[0] == 'X']"
   ]
  },
  {
   "cell_type": "code",
   "execution_count": 5,
   "id": "9c0290aa-b40b-4772-8a9d-6a1fc049ee75",
   "metadata": {},
   "outputs": [],
   "source": [
    "fuzzy_win = 5"
   ]
  },
  {
   "cell_type": "code",
   "execution_count": 6,
   "id": "0c4b6328-e66e-4f61-94ae-679705a882bb",
   "metadata": {},
   "outputs": [],
   "source": [
    "def cnn_reshape(x):\n",
    "    return x.reshape((-1, x.shape[1], 1))"
   ]
  },
  {
   "cell_type": "code",
   "execution_count": 7,
   "id": "5c57e57a-d38d-4139-816a-a5c782ccd1ea",
   "metadata": {},
   "outputs": [],
   "source": [
    "blur_factor = 4\n",
    "\n",
    "# x = drop_res(fuzzy_dx3, blur_factor=blur_factor)\n",
    "x = df[spec_cols].values\n",
    "y = df[stresses].values\n",
    "\n",
    "x /= x.max()\n",
    "\n",
    "x_train, x_val, y_train, y_val = train_test_split(x, y, test_size=.2)"
   ]
  },
  {
   "cell_type": "code",
   "execution_count": null,
   "id": "02717ef7-b27d-4a48-909e-c2f4457af7a5",
   "metadata": {},
   "outputs": [],
   "source": []
  },
  {
   "cell_type": "code",
   "execution_count": 40,
   "id": "b360a510-0ba8-4aa1-8846-5aed448034ef",
   "metadata": {},
   "outputs": [],
   "source": [
    "class Accuracy(Metric):\n",
    "    def __init__(self, name='accuracy', **kwargs):\n",
    "        super().__init__(name=name, **kwargs)\n",
    "        self.accuracy = self.add_variable(\n",
    "            shape=(),\n",
    "            initializer='zeros',\n",
    "            name='accuracy'\n",
    "        )\n",
    "\n",
    "    def update_state(self, y_true, y_pred, sample_weight=None):\n",
    "        p = tf.cast(tf.reduce_all((y_pred > .5) == y_true, axis=1), tf.float32)\n",
    "        \n",
    "        self.accuracy.assign(tf.reduce_mean(p))\n",
    "\n",
    "    def result(self):\n",
    "        return self.accuracy"
   ]
  },
  {
   "cell_type": "code",
   "execution_count": 83,
   "id": "e2b2baaa-0959-4cca-9578-d4a92f3a831e",
   "metadata": {},
   "outputs": [],
   "source": [
    "@functools.cache\n",
    "def fuzzy_dx_init(shape, dtype=None):\n",
    "    half_shape = list(shape)\n",
    "    half_shape[0] //= 2\n",
    "    half_shape = tuple(half_shape)\n",
    "    return np.vstack((np.ones(half_shape) * -1/half_shape[0], np.ones(half_shape)/half_shape[0]))\n",
    "\n",
    "model = Sequential([\n",
    "    Input(shape=(x_train.shape[1],1)),\n",
    "    Conv1D(1, fuzzy_win*2, trainable=False, kernel_initializer=fuzzy_dx_init),\n",
    "    Conv1D(1, fuzzy_win*2, trainable=False, kernel_initializer=fuzzy_dx_init),\n",
    "    Conv1D(1, fuzzy_win*2, trainable=False, kernel_initializer=fuzzy_dx_init),\n",
    "    AveragePooling1D(blur_factor),\n",
    "    Conv1D(20, 30, kernel_regularizer=L2(.00), name='conv1', activation='relu'),\n",
    "    Conv1D(20, 30, kernel_regularizer=L2(.00), name='conv2', activation='relu'),\n",
    "    MaxPooling1D(2),\n",
    "    Dropout(.02),\n",
    "    Flatten(),\n",
    "    Dense(100, kernel_regularizer=L2(.00), activation='relu'),\n",
    "    Dense(100, kernel_regularizer=L2(.0), activation='relu'),\n",
    "    Dense(100, kernel_regularizer=L2(.00), activation='relu'),\n",
    "    Dense(100, kernel_regularizer=L2(.00), activation='relu'),\n",
    "    Dense(10, kernel_regularizer=L2(.00), activation='relu'),\n",
    "    Dense(y.shape[1], activation='sigmoid'),\n",
    "])\n",
    "\n",
    "model.compile(optimizer=Nadam(1e-4, beta_1=.5, beta_2=.8), loss='binary_crossentropy', metrics=[Accuracy])"
   ]
  },
  {
   "cell_type": "code",
   "execution_count": 84,
   "id": "39c1ec6a-bfc8-4178-a270-8deb009247f9",
   "metadata": {
    "scrolled": true
   },
   "outputs": [
    {
     "name": "stdout",
     "output_type": "stream",
     "text": [
      "Epoch 1/300\n",
      "\u001b[1m237/237\u001b[0m \u001b[32m━━━━━━━━━━━━━━━━━━━━\u001b[0m\u001b[37m\u001b[0m \u001b[1m9s\u001b[0m 26ms/step - accuracy: 0.0778 - loss: 0.6675 - val_accuracy: 0.1667 - val_loss: 0.6051\n",
      "Epoch 2/300\n",
      "\u001b[1m237/237\u001b[0m \u001b[32m━━━━━━━━━━━━━━━━━━━━\u001b[0m\u001b[37m\u001b[0m \u001b[1m6s\u001b[0m 25ms/step - accuracy: 0.1289 - loss: 0.5908 - val_accuracy: 0.1667 - val_loss: 0.5583\n",
      "Epoch 3/300\n",
      "\u001b[1m237/237\u001b[0m \u001b[32m━━━━━━━━━━━━━━━━━━━━\u001b[0m\u001b[37m\u001b[0m \u001b[1m6s\u001b[0m 26ms/step - accuracy: 0.1408 - loss: 0.5449 - val_accuracy: 0.1667 - val_loss: 0.5141\n",
      "Epoch 4/300\n",
      "\u001b[1m237/237\u001b[0m \u001b[32m━━━━━━━━━━━━━━━━━━━━\u001b[0m\u001b[37m\u001b[0m \u001b[1m6s\u001b[0m 27ms/step - accuracy: 0.3664 - loss: 0.4985 - val_accuracy: 0.4167 - val_loss: 0.4763\n",
      "Epoch 5/300\n",
      "\u001b[1m237/237\u001b[0m \u001b[32m━━━━━━━━━━━━━━━━━━━━\u001b[0m\u001b[37m\u001b[0m \u001b[1m6s\u001b[0m 27ms/step - accuracy: 0.3850 - loss: 0.4640 - val_accuracy: 0.4167 - val_loss: 0.4484\n",
      "Epoch 6/300\n",
      "\u001b[1m237/237\u001b[0m \u001b[32m━━━━━━━━━━━━━━━━━━━━\u001b[0m\u001b[37m\u001b[0m \u001b[1m6s\u001b[0m 27ms/step - accuracy: 0.3849 - loss: 0.4397 - val_accuracy: 0.4167 - val_loss: 0.4364\n",
      "Epoch 7/300\n",
      "\u001b[1m237/237\u001b[0m \u001b[32m━━━━━━━━━━━━━━━━━━━━\u001b[0m\u001b[37m\u001b[0m \u001b[1m7s\u001b[0m 27ms/step - accuracy: 0.3852 - loss: 0.4316 - val_accuracy: 0.4167 - val_loss: 0.4336\n",
      "Epoch 8/300\n",
      "\u001b[1m237/237\u001b[0m \u001b[32m━━━━━━━━━━━━━━━━━━━━\u001b[0m\u001b[37m\u001b[0m \u001b[1m7s\u001b[0m 28ms/step - accuracy: 0.3852 - loss: 0.4234 - val_accuracy: 0.4167 - val_loss: 0.4252\n",
      "Epoch 9/300\n",
      "\u001b[1m237/237\u001b[0m \u001b[32m━━━━━━━━━━━━━━━━━━━━\u001b[0m\u001b[37m\u001b[0m \u001b[1m7s\u001b[0m 28ms/step - accuracy: 0.3851 - loss: 0.4195 - val_accuracy: 0.4167 - val_loss: 0.4120\n",
      "Epoch 10/300\n",
      "\u001b[1m237/237\u001b[0m \u001b[32m━━━━━━━━━━━━━━━━━━━━\u001b[0m\u001b[37m\u001b[0m \u001b[1m7s\u001b[0m 29ms/step - accuracy: 0.3858 - loss: 0.3963 - val_accuracy: 0.4167 - val_loss: 0.3915\n",
      "Epoch 11/300\n",
      "\u001b[1m237/237\u001b[0m \u001b[32m━━━━━━━━━━━━━━━━━━━━\u001b[0m\u001b[37m\u001b[0m \u001b[1m7s\u001b[0m 29ms/step - accuracy: 0.3944 - loss: 0.3865 - val_accuracy: 0.5000 - val_loss: 0.3893\n",
      "Epoch 12/300\n",
      "\u001b[1m237/237\u001b[0m \u001b[32m━━━━━━━━━━━━━━━━━━━━\u001b[0m\u001b[37m\u001b[0m \u001b[1m7s\u001b[0m 29ms/step - accuracy: 0.3946 - loss: 0.3823 - val_accuracy: 0.4167 - val_loss: 0.3814\n",
      "Epoch 13/300\n",
      "\u001b[1m237/237\u001b[0m \u001b[32m━━━━━━━━━━━━━━━━━━━━\u001b[0m\u001b[37m\u001b[0m \u001b[1m7s\u001b[0m 29ms/step - accuracy: 0.3942 - loss: 0.3755 - val_accuracy: 0.4167 - val_loss: 0.3909\n",
      "Epoch 14/300\n",
      "\u001b[1m237/237\u001b[0m \u001b[32m━━━━━━━━━━━━━━━━━━━━\u001b[0m\u001b[37m\u001b[0m \u001b[1m7s\u001b[0m 28ms/step - accuracy: 0.3936 - loss: 0.3736 - val_accuracy: 0.4167 - val_loss: 0.3766\n",
      "Epoch 15/300\n",
      "\u001b[1m237/237\u001b[0m \u001b[32m━━━━━━━━━━━━━━━━━━━━\u001b[0m\u001b[37m\u001b[0m \u001b[1m7s\u001b[0m 28ms/step - accuracy: 0.3934 - loss: 0.3735 - val_accuracy: 0.5000 - val_loss: 0.3760\n",
      "Epoch 16/300\n",
      "\u001b[1m237/237\u001b[0m \u001b[32m━━━━━━━━━━━━━━━━━━━━\u001b[0m\u001b[37m\u001b[0m \u001b[1m7s\u001b[0m 28ms/step - accuracy: 0.3930 - loss: 0.3660 - val_accuracy: 0.3333 - val_loss: 0.3818\n",
      "Epoch 17/300\n",
      "\u001b[1m237/237\u001b[0m \u001b[32m━━━━━━━━━━━━━━━━━━━━\u001b[0m\u001b[37m\u001b[0m \u001b[1m7s\u001b[0m 29ms/step - accuracy: 0.3912 - loss: 0.3650 - val_accuracy: 0.5000 - val_loss: 0.3717\n",
      "Epoch 18/300\n",
      "\u001b[1m237/237\u001b[0m \u001b[32m━━━━━━━━━━━━━━━━━━━━\u001b[0m\u001b[37m\u001b[0m \u001b[1m7s\u001b[0m 28ms/step - accuracy: 0.3927 - loss: 0.3649 - val_accuracy: 0.5000 - val_loss: 0.3670\n",
      "Epoch 19/300\n",
      "\u001b[1m237/237\u001b[0m \u001b[32m━━━━━━━━━━━━━━━━━━━━\u001b[0m\u001b[37m\u001b[0m \u001b[1m7s\u001b[0m 28ms/step - accuracy: 0.3927 - loss: 0.3573 - val_accuracy: 0.5000 - val_loss: 0.3609\n",
      "Epoch 20/300\n",
      "\u001b[1m237/237\u001b[0m \u001b[32m━━━━━━━━━━━━━━━━━━━━\u001b[0m\u001b[37m\u001b[0m \u001b[1m7s\u001b[0m 29ms/step - accuracy: 0.3934 - loss: 0.3605 - val_accuracy: 0.5000 - val_loss: 0.3582\n",
      "Epoch 21/300\n",
      "\u001b[1m237/237\u001b[0m \u001b[32m━━━━━━━━━━━━━━━━━━━━\u001b[0m\u001b[37m\u001b[0m \u001b[1m7s\u001b[0m 29ms/step - accuracy: 0.3935 - loss: 0.3553 - val_accuracy: 0.4167 - val_loss: 0.3670\n",
      "Epoch 22/300\n",
      "\u001b[1m237/237\u001b[0m \u001b[32m━━━━━━━━━━━━━━━━━━━━\u001b[0m\u001b[37m\u001b[0m \u001b[1m7s\u001b[0m 29ms/step - accuracy: 0.3960 - loss: 0.3523 - val_accuracy: 0.5000 - val_loss: 0.3551\n",
      "Epoch 23/300\n",
      "\u001b[1m237/237\u001b[0m \u001b[32m━━━━━━━━━━━━━━━━━━━━\u001b[0m\u001b[37m\u001b[0m \u001b[1m7s\u001b[0m 29ms/step - accuracy: 0.3935 - loss: 0.3517 - val_accuracy: 0.5000 - val_loss: 0.3515\n",
      "Epoch 24/300\n",
      "\u001b[1m237/237\u001b[0m \u001b[32m━━━━━━━━━━━━━━━━━━━━\u001b[0m\u001b[37m\u001b[0m \u001b[1m7s\u001b[0m 29ms/step - accuracy: 0.3940 - loss: 0.3490 - val_accuracy: 0.5000 - val_loss: 0.3577\n",
      "Epoch 25/300\n",
      "\u001b[1m237/237\u001b[0m \u001b[32m━━━━━━━━━━━━━━━━━━━━\u001b[0m\u001b[37m\u001b[0m \u001b[1m7s\u001b[0m 29ms/step - accuracy: 0.3926 - loss: 0.3462 - val_accuracy: 0.4167 - val_loss: 0.3464\n",
      "Epoch 26/300\n",
      "\u001b[1m237/237\u001b[0m \u001b[32m━━━━━━━━━━━━━━━━━━━━\u001b[0m\u001b[37m\u001b[0m \u001b[1m7s\u001b[0m 29ms/step - accuracy: 0.3956 - loss: 0.3429 - val_accuracy: 0.4167 - val_loss: 0.3442\n",
      "Epoch 27/300\n",
      "\u001b[1m237/237\u001b[0m \u001b[32m━━━━━━━━━━━━━━━━━━━━\u001b[0m\u001b[37m\u001b[0m \u001b[1m7s\u001b[0m 29ms/step - accuracy: 0.3941 - loss: 0.3397 - val_accuracy: 0.4167 - val_loss: 0.3400\n",
      "Epoch 28/300\n",
      "\u001b[1m237/237\u001b[0m \u001b[32m━━━━━━━━━━━━━━━━━━━━\u001b[0m\u001b[37m\u001b[0m \u001b[1m7s\u001b[0m 29ms/step - accuracy: 0.3933 - loss: 0.3418 - val_accuracy: 0.4167 - val_loss: 0.3568\n",
      "Epoch 29/300\n",
      "\u001b[1m237/237\u001b[0m \u001b[32m━━━━━━━━━━━━━━━━━━━━\u001b[0m\u001b[37m\u001b[0m \u001b[1m7s\u001b[0m 30ms/step - accuracy: 0.3918 - loss: 0.3364 - val_accuracy: 0.5000 - val_loss: 0.3366\n",
      "Epoch 30/300\n",
      "\u001b[1m237/237\u001b[0m \u001b[32m━━━━━━━━━━━━━━━━━━━━\u001b[0m\u001b[37m\u001b[0m \u001b[1m7s\u001b[0m 29ms/step - accuracy: 0.3928 - loss: 0.3370 - val_accuracy: 0.5000 - val_loss: 0.3351\n",
      "Epoch 31/300\n",
      "\u001b[1m237/237\u001b[0m \u001b[32m━━━━━━━━━━━━━━━━━━━━\u001b[0m\u001b[37m\u001b[0m \u001b[1m7s\u001b[0m 29ms/step - accuracy: 0.3922 - loss: 0.3328 - val_accuracy: 0.4167 - val_loss: 0.3326\n",
      "Epoch 32/300\n",
      "\u001b[1m237/237\u001b[0m \u001b[32m━━━━━━━━━━━━━━━━━━━━\u001b[0m\u001b[37m\u001b[0m \u001b[1m7s\u001b[0m 29ms/step - accuracy: 0.3944 - loss: 0.3330 - val_accuracy: 0.4167 - val_loss: 0.3338\n",
      "Epoch 33/300\n",
      "\u001b[1m237/237\u001b[0m \u001b[32m━━━━━━━━━━━━━━━━━━━━\u001b[0m\u001b[37m\u001b[0m \u001b[1m7s\u001b[0m 30ms/step - accuracy: 0.3927 - loss: 0.3318 - val_accuracy: 0.4167 - val_loss: 0.3305\n",
      "Epoch 34/300\n",
      "\u001b[1m237/237\u001b[0m \u001b[32m━━━━━━━━━━━━━━━━━━━━\u001b[0m\u001b[37m\u001b[0m \u001b[1m7s\u001b[0m 30ms/step - accuracy: 0.3919 - loss: 0.3317 - val_accuracy: 0.4167 - val_loss: 0.3294\n",
      "Epoch 35/300\n",
      "\u001b[1m237/237\u001b[0m \u001b[32m━━━━━━━━━━━━━━━━━━━━\u001b[0m\u001b[37m\u001b[0m \u001b[1m7s\u001b[0m 30ms/step - accuracy: 0.3949 - loss: 0.3290 - val_accuracy: 0.5000 - val_loss: 0.3271\n",
      "Epoch 36/300\n",
      "\u001b[1m237/237\u001b[0m \u001b[32m━━━━━━━━━━━━━━━━━━━━\u001b[0m\u001b[37m\u001b[0m \u001b[1m7s\u001b[0m 30ms/step - accuracy: 0.3952 - loss: 0.3254 - val_accuracy: 0.4167 - val_loss: 0.3356\n",
      "Epoch 37/300\n",
      "\u001b[1m150/237\u001b[0m \u001b[32m━━━━━━━━━━━━\u001b[0m\u001b[37m━━━━━━━━\u001b[0m \u001b[1m2s\u001b[0m 29ms/step - accuracy: 0.3967 - loss: 0.3209"
     ]
    },
    {
     "ename": "AbortedError",
     "evalue": "Graph execution error:\n\nDetected at node StatefulPartitionedCall/gradient_tape/sequential_18_1/conv2_1/convolution/Conv2DBackpropFilter defined at (most recent call last):\n<stack traces unavailable>\nOperation received an exception:Status: 1, message: could not create a primitive, in file tensorflow/core/kernels/mkl/mkl_conv_grad_filter_ops.cc:685\n\t [[{{node StatefulPartitionedCall/gradient_tape/sequential_18_1/conv2_1/convolution/Conv2DBackpropFilter}}]] [Op:__inference_one_step_on_iterator_616625]",
     "output_type": "error",
     "traceback": [
      "\u001b[1;31m---------------------------------------------------------------------------\u001b[0m",
      "\u001b[1;31mAbortedError\u001b[0m                              Traceback (most recent call last)",
      "Cell \u001b[1;32mIn[84], line 3\u001b[0m\n\u001b[0;32m      1\u001b[0m start \u001b[38;5;241m=\u001b[39m perf_counter()\n\u001b[1;32m----> 3\u001b[0m history \u001b[38;5;241m=\u001b[39m \u001b[43mmodel\u001b[49m\u001b[38;5;241;43m.\u001b[39;49m\u001b[43mfit\u001b[49m\u001b[43m(\u001b[49m\n\u001b[0;32m      4\u001b[0m \u001b[43m    \u001b[49m\u001b[43mcnn_reshape\u001b[49m\u001b[43m(\u001b[49m\u001b[43mx_train\u001b[49m\u001b[43m)\u001b[49m\u001b[43m,\u001b[49m\n\u001b[0;32m      5\u001b[0m \u001b[43m    \u001b[49m\u001b[43my_train\u001b[49m\u001b[43m,\u001b[49m\n\u001b[0;32m      6\u001b[0m \u001b[43m    \u001b[49m\u001b[43mepochs\u001b[49m\u001b[38;5;241;43m=\u001b[39;49m\u001b[38;5;241;43m300\u001b[39;49m\u001b[43m,\u001b[49m\n\u001b[0;32m      7\u001b[0m \u001b[43m    \u001b[49m\u001b[43mvalidation_data\u001b[49m\u001b[38;5;241;43m=\u001b[39;49m\u001b[43m(\u001b[49m\u001b[43mcnn_reshape\u001b[49m\u001b[43m(\u001b[49m\u001b[43mx_val\u001b[49m\u001b[43m)\u001b[49m\u001b[43m,\u001b[49m\u001b[43m \u001b[49m\u001b[43my_val\u001b[49m\u001b[43m)\u001b[49m\u001b[43m,\u001b[49m\n\u001b[0;32m      8\u001b[0m \u001b[43m    \u001b[49m\u001b[43mbatch_size\u001b[49m\u001b[38;5;241;43m=\u001b[39;49m\u001b[38;5;241;43m80\u001b[39;49m\u001b[43m,\u001b[49m\n\u001b[0;32m      9\u001b[0m \u001b[43m)\u001b[49m\n\u001b[0;32m     11\u001b[0m \u001b[38;5;28mprint\u001b[39m(perf_counter() \u001b[38;5;241m-\u001b[39m start)\n",
      "File \u001b[1;32m~\\.virtualenvs\\stress_detection-fEHOVlkj\\Lib\\site-packages\\keras\\src\\utils\\traceback_utils.py:122\u001b[0m, in \u001b[0;36mfilter_traceback.<locals>.error_handler\u001b[1;34m(*args, **kwargs)\u001b[0m\n\u001b[0;32m    119\u001b[0m     filtered_tb \u001b[38;5;241m=\u001b[39m _process_traceback_frames(e\u001b[38;5;241m.\u001b[39m__traceback__)\n\u001b[0;32m    120\u001b[0m     \u001b[38;5;66;03m# To get the full stack trace, call:\u001b[39;00m\n\u001b[0;32m    121\u001b[0m     \u001b[38;5;66;03m# `keras.config.disable_traceback_filtering()`\u001b[39;00m\n\u001b[1;32m--> 122\u001b[0m     \u001b[38;5;28;01mraise\u001b[39;00m e\u001b[38;5;241m.\u001b[39mwith_traceback(filtered_tb) \u001b[38;5;28;01mfrom\u001b[39;00m \u001b[38;5;28;01mNone\u001b[39;00m\n\u001b[0;32m    123\u001b[0m \u001b[38;5;28;01mfinally\u001b[39;00m:\n\u001b[0;32m    124\u001b[0m     \u001b[38;5;28;01mdel\u001b[39;00m filtered_tb\n",
      "File \u001b[1;32m~\\.virtualenvs\\stress_detection-fEHOVlkj\\Lib\\site-packages\\tensorflow\\python\\eager\\execute.py:53\u001b[0m, in \u001b[0;36mquick_execute\u001b[1;34m(op_name, num_outputs, inputs, attrs, ctx, name)\u001b[0m\n\u001b[0;32m     51\u001b[0m \u001b[38;5;28;01mtry\u001b[39;00m:\n\u001b[0;32m     52\u001b[0m   ctx\u001b[38;5;241m.\u001b[39mensure_initialized()\n\u001b[1;32m---> 53\u001b[0m   tensors \u001b[38;5;241m=\u001b[39m pywrap_tfe\u001b[38;5;241m.\u001b[39mTFE_Py_Execute(ctx\u001b[38;5;241m.\u001b[39m_handle, device_name, op_name,\n\u001b[0;32m     54\u001b[0m                                       inputs, attrs, num_outputs)\n\u001b[0;32m     55\u001b[0m \u001b[38;5;28;01mexcept\u001b[39;00m core\u001b[38;5;241m.\u001b[39m_NotOkStatusException \u001b[38;5;28;01mas\u001b[39;00m e:\n\u001b[0;32m     56\u001b[0m   \u001b[38;5;28;01mif\u001b[39;00m name \u001b[38;5;129;01mis\u001b[39;00m \u001b[38;5;129;01mnot\u001b[39;00m \u001b[38;5;28;01mNone\u001b[39;00m:\n",
      "\u001b[1;31mAbortedError\u001b[0m: Graph execution error:\n\nDetected at node StatefulPartitionedCall/gradient_tape/sequential_18_1/conv2_1/convolution/Conv2DBackpropFilter defined at (most recent call last):\n<stack traces unavailable>\nOperation received an exception:Status: 1, message: could not create a primitive, in file tensorflow/core/kernels/mkl/mkl_conv_grad_filter_ops.cc:685\n\t [[{{node StatefulPartitionedCall/gradient_tape/sequential_18_1/conv2_1/convolution/Conv2DBackpropFilter}}]] [Op:__inference_one_step_on_iterator_616625]"
     ]
    }
   ],
   "source": [
    "start = perf_counter()\n",
    "\n",
    "history = model.fit(\n",
    "    cnn_reshape(x_train),\n",
    "    y_train,\n",
    "    epochs=300,\n",
    "    validation_data=(cnn_reshape(x_val), y_val),\n",
    "    batch_size=80,\n",
    ")\n",
    "\n",
    "print(perf_counter() - start)"
   ]
  },
  {
   "cell_type": "code",
   "execution_count": null,
   "id": "fcc56ab3-32ec-4e4d-b1b5-a3a3e0a55302",
   "metadata": {},
   "outputs": [],
   "source": [
    "fig = plt.figure()\n",
    "ax = plt.gca()\n",
    "\n",
    "ax.plot(history.history['loss'], label='Training')\n",
    "ax.plot(\n",
    "    np.convolve(np.array(history.history['val_loss']), np.ones(10)/10, mode='valid'),\n",
    "    label='Validation (Running Mean)'\n",
    ")\n",
    "ax.legend()\n",
    "ax.set_xlabel('# Epochs')\n",
    "ax.set_ylabel('Loss')\n",
    "ax.set_ylim((0, 1))\n",
    "ax.set_title('CNN Loss over Training')"
   ]
  },
  {
   "cell_type": "code",
   "execution_count": null,
   "id": "13b881ed-adfb-4432-b53a-246b1be7a525",
   "metadata": {},
   "outputs": [],
   "source": [
    "y_pred = model.predict(cnn_reshape(x_val))"
   ]
  }
 ],
 "metadata": {
  "kernelspec": {
   "display_name": "Python 3 (ipykernel)",
   "language": "python",
   "name": "python3"
  },
  "language_info": {
   "codemirror_mode": {
    "name": "ipython",
    "version": 3
   },
   "file_extension": ".py",
   "mimetype": "text/x-python",
   "name": "python",
   "nbconvert_exporter": "python",
   "pygments_lexer": "ipython3",
   "version": "3.12.3"
  }
 },
 "nbformat": 4,
 "nbformat_minor": 5
}
